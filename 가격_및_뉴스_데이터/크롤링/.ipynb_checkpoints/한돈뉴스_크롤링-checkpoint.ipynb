{
 "cells": [
  {
   "cell_type": "code",
   "execution_count": 12,
   "id": "0f04ec16",
   "metadata": {},
   "outputs": [],
   "source": [
    "from selenium.webdriver.support.ui import Select\n",
    "import pandas as pd"
   ]
  },
  {
   "cell_type": "code",
   "execution_count": null,
   "id": "a99b73d1",
   "metadata": {},
   "outputs": [],
   "source": [
    "# riss.kr 에서 특정 키워드로 논문 / 학술 자료 검색하기\n",
    "\n",
    "#Step 1. 필요한 모듈을 로딩합니다\n",
    "from selenium import webdriver\n",
    "from selenium.webdriver.common.by import By\n",
    "from selenium.webdriver.common.keys import Keys\n",
    "from selenium.webdriver.chrome.service import Service\n",
    "import time          \n",
    "\n",
    "#Step 2. 사용자에게 검색 관련 정보들을 입력 받습니다.\n",
    "print(\"=\" *100)\n",
    "print(\" 이 크롤러는 한돈뉴스 웹크롤러입니다.\")\n",
    "print(\"=\" *100)\n",
    "\n",
    "\n",
    "title_list=[]\n",
    "date_list=[]\n",
    "content_list=[]\n",
    "error_list=[]\n",
    "from bs4 import BeautifulSoup\n",
    "s = Service(\"c:/py_temp/chromedriver.exe\")\n",
    "driver = webdriver.Chrome(service=s)\n",
    "for i in range(22703,23753):\n",
    "    try:\n",
    "        url = 'http://www.handonnews.kr/news/article.html?no={}'.format(i)\n",
    "        driver.get(url)\n",
    "        time.sleep(2)\n",
    "        driver.maximize_window()\n",
    "\n",
    "        html_1 = driver.page_source\n",
    "        soup_1 = BeautifulSoup(html_1, 'html.parser')\n",
    "        title = soup_1.find(class_='art_top').find(\"h2\")\n",
    "        print(title)\n",
    "        title_list.append(title.get_text())\n",
    "        date = soup_1.find(class_='art_info').find_all(\"li\")\n",
    "        print(date[1].get_text())\n",
    "        date_list.append(date[1].get_text())\n",
    "\n",
    "        \n",
    "        content=soup_1.find(\"div\",id='news_body_area').get_text()\n",
    "        content_list.append(content)\n",
    "    except:\n",
    "        error_list.append(i)"
   ]
  },
  {
   "cell_type": "code",
   "execution_count": 11,
   "id": "cad31232",
   "metadata": {},
   "outputs": [
    {
     "data": {
      "text/plain": [
       "'\\n\\n\\xa0\\n농촌진흥청이 선정한 ‘올해의 최고농업기술명인’에 강원도 원주시 금돈 돼지문화원 장성훈 대표가 선정됐다고 20일 밝혔다.\\n\\n장성훈 대표는 1997년 개인농장에서 시작해 전문종돈장과 유전자센터를 기반으로, 최고급 품질의 돼지고기를 만들기 위한 연구를 지속해오고 있으며, 주변 농가에 기술을 전파하는 등 축산분야에서 그간의 공로를 인정받아 최고농업기술명인에\\xa0 올랐다.\\n\\xa0\\n또한 지속적인 씨돼지 개량으로 품질이 균일한 돼지고기를 생산해 상품화 하고 있으며, 농촌과 도시의 교류를 위해 국내 최초로 돼지를 테마로 한 돼지문화원을 설립, 방문객을 위한 체험프로그램과 가공식품 만들기 등을 통해 축산분야 농촌융복합산업 본보기를 만들었다.\\n\\xa0\\n특히 ‘치악산금돈’ 고급 브랜드육을 개발하고 ‘치악산금돈’을 원료육으로 최상의 품질과 신선도를 유지한 육가공제품(소시지, 곰탕 등)을 개발하는등 완성한 활동을 해오고 있다.\\n\\xa0\\n장 대표는 “이번 수상을 통해 자만하지 않고, 국가에서 인증한 명인인 만큼 국가의 이름을 걸고 축산업을 이끌어 가겠다”고 소감을 밝혔다.\\n\\xa0\\n대한민국 최고농업기술명인은 최고 수준의 농업기술을 보유하고 이를 바탕으로 지역 농업·농촌 발전에 기여한 농업인들에게 주어지는 상이다.\\xa0 명인은 20년 이상인 농업인 가운데 식량, 채소, 과수, 화훼·특작, 축산 5개분야에 각 1명식 수여한다.\\n'"
      ]
     },
     "execution_count": 11,
     "metadata": {},
     "output_type": "execute_result"
    }
   ],
   "source": [
    "content_list[0]"
   ]
  }
 ],
 "metadata": {
  "kernelspec": {
   "display_name": "Python 3 (ipykernel)",
   "language": "python",
   "name": "python3"
  },
  "language_info": {
   "codemirror_mode": {
    "name": "ipython",
    "version": 3
   },
   "file_extension": ".py",
   "mimetype": "text/x-python",
   "name": "python",
   "nbconvert_exporter": "python",
   "pygments_lexer": "ipython3",
   "version": "3.8.11"
  }
 },
 "nbformat": 4,
 "nbformat_minor": 5
}
