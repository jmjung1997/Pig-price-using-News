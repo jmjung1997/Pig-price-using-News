{
 "cells": [
  {
   "cell_type": "code",
   "execution_count": 16,
   "id": "d1d70a16",
   "metadata": {
    "scrolled": true
   },
   "outputs": [
    {
     "name": "stdout",
     "output_type": "stream",
     "text": [
      "{\n",
      "    \"content\": \"\\ubaa8\\ub3c8 \\uc218\\ud0dc\\uc728\\uc774 \\uc88b\\uc544 \\ub3fc\\uc9c0\\uace0\\uae30 \\ucd9c\\ud558\\ub7c9\\uc774 \\ub192\\uc544\\uc9c8 \\uc804\\ub9dd\\uc785\\ub2c8\\ub2e4..\"\n",
      "}\n",
      "{\"document\":{\"sentiment\":\"positive\",\"confidence\":{\"negative\":0.014299694,\"positive\":99.973946,\"neutral\":0.011755228}},\"sentences\":[{\"content\":\"모돈 수태율이 좋아 돼지고기 출하량이 높아질 전망입니다..\",\"offset\":0,\"length\":32,\"sentiment\":\"positive\",\"confidence\":{\"negative\":8.579817E-4,\"positive\":0.99843675,\"neutral\":7.053137E-4},\"highlights\":[{\"offset\":0,\"length\":30}]}]}\n"
     ]
    }
   ],
   "source": [
    "#!/usr/bin/env python3\n",
    "#-*- codig: utf-8 -*-\n",
    "import sys\n",
    "import requests\n",
    "import json\n",
    "client_id = \"4q7skv8ste\"\n",
    "client_secret = \"wmqQzlBqk2InZAdvDsHOHDZNIVO9PVBysFVxy8m4\"\n",
    "url=\"https://naveropenapi.apigw.ntruss.com/sentiment-analysis/v1/analyze\"\n",
    "headers = {\n",
    "    \"X-NCP-APIGW-API-KEY-ID\": client_id,\n",
    "    \"X-NCP-APIGW-API-KEY\": client_secret,\n",
    "    \"Content-Type\": \"application/json\"\n",
    "}\n",
    "content=\"모돈 수태율이 좋아 돼지고기 출하량이 높아질 전망입니다..\"\n",
    "data = {\n",
    "  \"content\": content\n",
    "}\n",
    "print(json.dumps(data, indent=4, sort_keys=True))\n",
    "response = requests.post(url, data=json.dumps(data), headers=headers)\n",
    "rescode = response.status_code\n",
    "if(rescode == 200):\n",
    "    print (response.text)\n",
    "else:\n",
    "    print(\"Error : \" + response.text)\n",
    "text = response.json()\n",
    "\n",
    "raw = text['sentences']\n"
   ]
  },
  {
   "cell_type": "code",
   "execution_count": 17,
   "id": "9af45f9a",
   "metadata": {},
   "outputs": [
    {
     "data": {
      "text/plain": [
       "[{'content': '모돈 수태율이 좋아 돼지고기 출하량이 높아질 전망입니다..',\n",
       "  'offset': 0,\n",
       "  'length': 32,\n",
       "  'sentiment': 'positive',\n",
       "  'confidence': {'negative': 0.0008579817,\n",
       "   'positive': 0.99843675,\n",
       "   'neutral': 0.0007053137},\n",
       "  'highlights': [{'offset': 0, 'length': 30}]}]"
      ]
     },
     "execution_count": 17,
     "metadata": {},
     "output_type": "execute_result"
    }
   ],
   "source": [
    "raw"
   ]
  },
  {
   "cell_type": "code",
   "execution_count": 8,
   "id": "8a9e605e",
   "metadata": {},
   "outputs": [
    {
     "ename": "TypeError",
     "evalue": "list indices must be integers or slices, not str",
     "output_type": "error",
     "traceback": [
      "\u001b[1;31m---------------------------------------------------------------------------\u001b[0m",
      "\u001b[1;31mTypeError\u001b[0m                                 Traceback (most recent call last)",
      "Cell \u001b[1;32mIn[8], line 1\u001b[0m\n\u001b[1;32m----> 1\u001b[0m content \u001b[38;5;241m=\u001b[39m \u001b[38;5;28mstr\u001b[39m(\u001b[43mraw\u001b[49m\u001b[43m[\u001b[49m\u001b[38;5;124;43m'\u001b[39;49m\u001b[38;5;124;43mcontent\u001b[39;49m\u001b[38;5;124;43m'\u001b[39;49m\u001b[43m]\u001b[49m) \u001b[38;5;66;03m#텍스트\u001b[39;00m\n\u001b[0;32m      2\u001b[0m offset \u001b[38;5;241m=\u001b[39m \u001b[38;5;28mint\u001b[39m(raw[\u001b[38;5;124m'\u001b[39m\u001b[38;5;124mhighlights\u001b[39m\u001b[38;5;124m'\u001b[39m][\u001b[38;5;241m0\u001b[39m][\u001b[38;5;124m'\u001b[39m\u001b[38;5;124moffset\u001b[39m\u001b[38;5;124m'\u001b[39m]) \u001b[38;5;66;03m#오프셋\u001b[39;00m\n\u001b[0;32m      3\u001b[0m length \u001b[38;5;241m=\u001b[39m \u001b[38;5;28mint\u001b[39m(raw[\u001b[38;5;124m'\u001b[39m\u001b[38;5;124mhighlights\u001b[39m\u001b[38;5;124m'\u001b[39m][\u001b[38;5;241m0\u001b[39m][\u001b[38;5;124m'\u001b[39m\u001b[38;5;124mlength\u001b[39m\u001b[38;5;124m'\u001b[39m]) \u001b[38;5;66;03m#해당 길이\u001b[39;00m\n",
      "\u001b[1;31mTypeError\u001b[0m: list indices must be integers or slices, not str"
     ]
    }
   ],
   "source": [
    "\n",
    "        content = str(raw['content']) #텍스트\n",
    "        offset = int(raw['highlights'][0]['offset']) #오프셋\n",
    "        length = int(raw['highlights'][0]['length']) #해당 길이\n",
    "        text = content[offset : offset + length] #부정 의미가 있는 문구 텍스트 추출\n",
    "        sentiment=str(raw['sentiment'])\n",
    "        #print(text)\n",
    "        file.write(str(text)+\"    sentiment: \"+str(sentiment) + '\\n')"
   ]
  },
  {
   "cell_type": "code",
   "execution_count": 5,
   "id": "24bad56e",
   "metadata": {},
   "outputs": [
    {
     "data": {
      "text/plain": [
       "[{'content': '조규찬은 나라를 팔아먹었습니다.',\n",
       "  'offset': 0,\n",
       "  'length': 17,\n",
       "  'sentiment': 'negative',\n",
       "  'confidence': {'negative': 0.9987998,\n",
       "   'positive': 0.0003994254,\n",
       "   'neutral': 0.0008007607},\n",
       "  'highlights': [{'offset': 0, 'length': 16}]}]"
      ]
     },
     "execution_count": 5,
     "metadata": {},
     "output_type": "execute_result"
    }
   ],
   "source": [
    "text=response.json()\n",
    "\n",
    "raw=text['sentences']\n",
    "\n",
    "raw"
   ]
  },
  {
   "cell_type": "code",
   "execution_count": 20,
   "id": "7cc04983",
   "metadata": {},
   "outputs": [],
   "source": [
    "import pandas as pd\n",
    "import numpy as np\n",
    "from sklearn import preprocessing\n",
    "from sklearn.feature_extraction.text import CountVectorizer\n",
    "from sklearn.feature_extraction.text import TfidfVectorizer\n",
    "\n",
    "####한국어 형태소 분석기####\n",
    "from konlpy.tag import Kkma, Komoran, Okt, Hannanum #Mecab은 윈도우에서 작동 불가능\n",
    "okt = Okt()\n",
    "\n",
    "df_18=pd.read_csv('../원본데이터/news18.csv',encoding='cp949')\n",
    "df_19=pd.read_csv('../원본데이터/news19.csv',encoding='cp949')\n",
    "df_20=pd.read_csv('../원본데이터/news20.csv',encoding='cp949')\n",
    "df_21=pd.read_csv('../원본데이터/news21.csv',encoding='cp949')\n",
    "\n",
    "df_all=pd.concat([df_18,df_19,df_20,df_21])\n",
    "\n",
    "df_all\n",
    "\n",
    "df_all['time']=pd.to_datetime(df_all['time'])\n",
    "df_all['datetime']=df_all['time'].dt.strftime('%Y-%m-%d')\n",
    "\n",
    "df_all['datetime']=pd.to_datetime(df_all['datetime'])\n",
    "\n",
    "df_new=df_all\n",
    "\n",
    "df_new.reset_index(inplace=True)\n",
    "\n",
    "df_new=df_new.groupby(['datetime'], as_index=False).agg(lambda x: ' '.join(set(x)))\n",
    "\n",
    "df_new.head()\n",
    "\n",
    "df_new\n",
    "\n",
    "df_new.tail(1000)\n",
    "\n",
    "week = [g for n, g in df_new.set_index('datetime').groupby(pd.Grouper(freq='W'))]\n",
    "\n",
    "week[0]"
   ]
  },
  {
   "cell_type": "code",
   "execution_count": 43,
   "id": "75f9e0fc",
   "metadata": {},
   "outputs": [],
   "source": [
    "content = week[0]['article'][0]"
   ]
  },
  {
   "cell_type": "code",
   "execution_count": 63,
   "id": "2e099840",
   "metadata": {},
   "outputs": [],
   "source": [
    "stem_list=[]\n",
    "stem_list2=[]\n",
    "stem_list3=[]\n",
    "error_index=[]\n",
    "i=0\n",
    "for index, text in enumerate(week):\n",
    "    try:\n",
    "          stem_list.append(text['article'][0])\n",
    "    except:\n",
    "        stem_list.append('NULL')\n",
    "        error_index.append(index)\n",
    "    with open('./news_stem/stem_list{}.txt'.format(i),'w',encoding='UTF-8') as f:\n",
    "            f.write('\\n'.join(map(str, stem_list)))\n",
    "\n",
    "#     f = open('./stem/stem_list{}.txt'.format(i), 'r',encoding='UTF-8')\n",
    "\n",
    "#     lines = f.readlines()\n",
    "\n",
    "#     for text in lines:\n",
    "#         malist=okt.pos(text, norm=True, stem=True)\n",
    "#         r=[]\n",
    "#         for word in malist:\n",
    "#             if not word[1] in ['Josa','Eomi','Punctuation', 'Number','\\r','\\t','unknown']:\n",
    "#                 if not word[0] in no_word:\n",
    "#                     r.append(word[0])\n",
    "#         rl=(\" \".join(r)).strip()\n",
    "#         stem_list2.append(rl)\n",
    "#     stem_list3.append(stem_list2)\n",
    "#     stem_list=[]\n",
    "#     stem_list2=[]\n",
    "    i=i+1"
   ]
  },
  {
   "cell_type": "code",
   "execution_count": 105,
   "id": "3c97d83d",
   "metadata": {},
   "outputs": [
    {
     "ename": "KeyError",
     "evalue": "'article'",
     "output_type": "error",
     "traceback": [
      "\u001b[1;31m---------------------------------------------------------------------------\u001b[0m",
      "\u001b[1;31mKeyError\u001b[0m                                  Traceback (most recent call last)",
      "Cell \u001b[1;32mIn[105], line 1\u001b[0m\n\u001b[1;32m----> 1\u001b[0m \u001b[43mtext\u001b[49m\u001b[43m[\u001b[49m\u001b[38;5;124;43m'\u001b[39;49m\u001b[38;5;124;43marticle\u001b[39;49m\u001b[38;5;124;43m'\u001b[39;49m\u001b[43m]\u001b[49m[\u001b[38;5;241m0\u001b[39m]\n",
      "\u001b[1;31mKeyError\u001b[0m: 'article'"
     ]
    }
   ],
   "source": [
    "text['article'][0]"
   ]
  },
  {
   "cell_type": "code",
   "execution_count": 106,
   "id": "00d8fa6e",
   "metadata": {},
   "outputs": [],
   "source": [
    "f = open('./news_stem/stem_list0.txt'.format(i), 'r',encoding='UTF-8')"
   ]
  },
  {
   "cell_type": "code",
   "execution_count": 107,
   "id": "4497f8ec",
   "metadata": {},
   "outputs": [],
   "source": [
    "text=f.read()"
   ]
  },
  {
   "cell_type": "code",
   "execution_count": 108,
   "id": "ad046d81",
   "metadata": {},
   "outputs": [],
   "source": [
    "text_2 = text.replace(\"\\n\", \"\")\n",
    "text_3=text_2.replace(\"\\t\",\"\")"
   ]
  },
  {
   "cell_type": "code",
   "execution_count": 109,
   "id": "5c6108d0",
   "metadata": {},
   "outputs": [],
   "source": [
    "content=text_3[1:800]"
   ]
  },
  {
   "cell_type": "code",
   "execution_count": 110,
   "id": "633ac102",
   "metadata": {},
   "outputs": [
    {
     "name": "stdout",
     "output_type": "stream",
     "text": [
      "{\n",
      "    \"content\": \"018\\ub144, \\ucd95\\uc0b0 \\uc0ac\\uc721 \\ud658\\uacbd \\ubcc0\\ud654 \\uc6d0\\ub144\\uae40 \\uc7a5\\uad00 \\uc2e0\\ub144\\uc0ac\\uc11c \\ubc1d\\ud600\\uc815\\ubd80\\uac00 \\uc62c\\ud574 \\ucd95\\uc0b0, \\uc0ac\\uc721 \\ud658\\uacbd \\ubcc0\\ud654\\uc758 \\uc6d0\\ub144\\uc778 \\ud574\\ub85c \\ub9cc\\ub4e4\\uaca0\\ub2e4\\uace0 \\uc120\\ud3ec\\ud588\\ub2e4.\\uae40\\uc601\\ub85d \\ub18d\\ub9bc\\ucd95\\uc0b0\\uc2dd\\ud488\\ubd80 \\uc7a5\\uad00\\uc740 \\ucd5c\\uadfc \\uc2e0\\ub144\\uc0ac\\uc5d0\\uc11c \\uae08\\ub144 10\\ub300 \\uc8fc\\uc694\\uc815\\ucc45\\uc744 \\ubc1c\\ud45c, \\uc774\\uc911 \\ucd95\\uc0b0 \\uc0ac\\uc721 \\ud658\\uacbd\\ub3c4 \\uadfc\\ubcf8\\uc801\\uc73c\\ub85c \\uac1c\\uc120\\ud560 \\uac83\\uc774\\ub77c\\uace0 \\uac15\\uc870\\ud588\\ub2e4.\\uc774\\ub97c \\uc704\\ud574 \\uae40 \\uc7a5\\uad00\\uc740 \\uac00\\ucd95\\uc9c8\\ubcd1 \\uc608\\ubc29\\uacfc \\uc2dd\\ud488\\uc548\\uc804 \\ud655\\ubcf4\\ub97c \\uc704\\ud55c \\ub3d9\\ubb3c\\ubcf5\\uc9c0\\ucd95\\uc0b0 \\ub85c\\ub4dc\\ub9f5\\uc744 \\ub9cc\\ub4e4\\uc5b4 \\uc0ac\\uc721\\ubc00\\ub3c4, \\uc2dc\\uc124\\u00b7\\uad00\\ub9ac \\uae30\\uc900 \\uac15\\ud654\\ub97c \\ud1b5\\ud574 \\uc62c 7\\uc6d4\\ubd80\\ud130 \\uc0b0\\ub780\\uacc4 \\uc2e0\\uaddc\\ub18d\\uc7a5\\uc5d0\\uac8c\\ub294 \\ubcf4\\ub2e4 \\ub113\\uc5b4\\uc9c4 \\uc0ac\\uc721\\ubc00\\ub3c4 \\uae30\\uc900\\uc744 \\uc801\\uc6a9\\ud560 \\uac83\\uc774\\ub77c\\uace0 \\uac15\\uc870\\ud588\\ub2e4. \\ub610\\ud55c \\ucd95\\uc0b0\\ub18d\\uac00\\uac00 \\uac15\\ud654\\ub41c \\ud5c8\\uac00 \\uae30\\uc900\\uc73c\\ub85c \\uc870\\uae30\\uc5d0 \\uc804\\ud658\\ud560 \\uc218 \\uc788\\ub3c4\\ub85d \\uc2dc\\uc124 \\uac1c\\uc120 \\uc790\\uae08\\uc744 \\uc9c0\\uc6d0\\ud558\\uace0, \\ub18d\\uac00\\uc758 \\uc0ac\\uc721\\ud658\\uacbd\\uac1c\\uc120 \\ub178\\ub825\\uc744 \\uc18c\\ube44\\uc790\\ub4e4\\uc774 \\uc54c\\uace0 \\uc120\\ud0dd\\ud560 \\uc218 \\uc788\\ub3c4\\ub85d \\uc0ac\\uc721\\ud658\\uacbd \\ud45c\\uc2dc \\uc81c\\ub3c4\\ub97c \\ub3c4\\uc785\\ud558\\uaca0\\ub2e4\\uace0 \\ubc1d\\ud614\\ub2e4. \\ubb34\\ud5c8\\uac00 \\uc801\\ubc95\\ud654\\uc640 \\uad00\\ub828, \\ubb34\\ud5c8\\uac00 \\ucd95\\uc0ac \\uc801\\ubc95\\ud654\\ub97c \\uc704\\ud574 \\ub178\\ub825\\ud558\\ub294 \\ub18d\\uac00\\uc5d0 \\ub300\\ud574\\uc11c\\ub294 \\uad00\\uacc4\\ubd80\\ucc98\\uc640 \\ud611\\uc758\\ub97c \\uac70\\uccd0 \\uad6c\\uc81c\\ubc29\\uc548\\uc744 \\ub9c8\\ub828\\ud558\\uaca0\\ub2e4\\uace0 \\ub367\\ubd99\\uc600\\ub2e4.  17\\ub144\\uc5d0\\ub3c4 \\ud55c\\ub3c8 5000\\uc6d0 \\ubabb \\uc774\\ub9044,958\\uc6d0 \\uc804\\ub144\\ubcf4\\ub2e4 7.7% \\u219110\\uc6d4 \\uc774\\ud6c4 \\uc57d\\uc138\\ub85c \\uc5ed\\ubd80\\uc871\\uc9c0\\ub09c\\ud574 \\ub3fc\\uc9c0 \\uac12\\uc774 \\uc804\\ub144 \\ub300\\ube44 \\uc624\\ub974\\uba74\\uc11c 4\\ub144 \\uc5f0\\uc18d 4\\ucc9c500\\uc6d0(kg\\ub2f9 \\ud0d5\\ubc15) \\uc774\\uc0c1\\uc744 \\uae30\\ub85d\\ud588\\ub2e4. \\uc9c0\\ub09c\\ud574 \\ud3c9\\uade0 \\ub3fc\\uc9c0 \\uac12\\uc740 4\\ucc9c958\\uc6d0(12\\uc6d4 27\\uc77c \\uae30\\uc900)\\uc73c\\ub85c \\uc9c0\\ub09c 16\\ub144 4\\ucc9c600\\uc6d0\\ubcf4\\ub2e4 7.7% \\uac00\\ub7c9 \\uc62c\\ub790\\ub2e4. \\uc774\\ub85c\\uc368 \\uc9c0\\ub09c 14\\ub144 \\uc774\\ud6c4 \\ub3fc\\uc9c0 \\uac12\\uc740 \\uc5f0\\ud3c9\\uade0 4\\ucc9c500\\uc6d0 \\uc774\\uc0c1\\uc744 \\uae30\\ub85d\\ud558\\uba70 \\ud638\\ud669\\uc744 \\uc774\\uc5b4\\uac14\\ub2e4. \\ub3fc\\uc9c0 \\ucd9c\\ud558\\ub450\\uc218 \\uc99d\\uac00\\uc5d0\\ub3c4 \\uc18c\\ube44\\uac00 \\ub298\\uba74\\uc11c \\ub3c8\\uac00 \\uac15\\uc138\\ub97c \\ub4b7\\ubc1b\\uce68\\ud55c \\uacb0\\uacfc\\ub2e4. \\uadf8\\ub7ec\\ub098 \\ud3c9\\uade0 5\\ucc9c\\uc6d0\\uc758 \\ubb38\\ud131\\uc740 \\ub118\\uc9c0 \\ubabb\\ud588\\ub2e4. \\uc9c0\\ub09c 9\\uc6d4\\uae4c\\uc9c0 \\uc804\\ub144 \\ub300\\ube44 \\uc0c1\\uc2b9\\uc138\\ub97c \\uae30\\ub85d\\ud574\\uc654\\ub358 \\ub3fc\\uc9c0 \\uac12\\uc774 10\\uc6d4 \\uc774\\ud6c4 \\ubb3c\\ub7c9 \\uc99d\\uac00\\ub85c \\uac15\\uc138\\ub97c \\uc774\\uc5b4\\uac00\\uc9c0 \\ubabb\\ud588\\uae30 \\ub54c\\ubb38\\uc774\\ub2e4.  \\uc791\\ub144 \\ub3fc\\uc9c0\"\n",
      "}\n",
      "{\"document\":{\"sentiment\":\"positive\",\"confidence\":{\"negative\":15.1895,\"positive\":70.5238,\"neutral\":14.286695}},\"sentences\":[{\"content\":\"018년, 축산 사육 환경 변화 원년김 장관 신년사서 밝혀정부가 올해 축산, 사육 환경 변화의 원년인 해로 만들겠다고 선포했다.\",\"offset\":0,\"length\":71,\"sentiment\":\"positive\",\"confidence\":{\"negative\":5.11196E-4,\"positive\":0.90622634,\"neutral\":0.093262546},\"highlights\":[{\"offset\":57,\"length\":9}]},{\"content\":\"김영록 농림축산식품부 장관은 최근 신년사에서 금년 10대 주요정책을 발표, 이중 축산 사육 환경도 근본적으로 개선할 것이라고 강조했다.\",\"offset\":71,\"length\":75,\"sentiment\":\"neutral\",\"confidence\":{\"negative\":5.938763E-4,\"positive\":0.0022467526,\"neutral\":0.99715936},\"highlights\":[{\"offset\":42,\"length\":32}]},{\"content\":\"이를 위해 김 장관은 가축질병 예방과 식품안전 확보를 위한 동물복지축산 로드맵을 만들어 사육밀도, 시설·관리 기준 강화를 통해 올 7월부터 산란계 신규농장에게는 보다 넓어진 사육밀도 기준을 적용할 것이라고 강조했다.\",\"offset\":146,\"length\":120,\"sentiment\":\"neutral\",\"confidence\":{\"negative\":7.9921796E-4,\"positive\":0.3210468,\"neutral\":0.678154},\"highlights\":[{\"offset\":78,\"length\":41}]},{\"content\":\" 또한 축산농가가 강화된 허가 기준으로 조기에 전환할 수 있도록 시설 개선 자금을 지원하고, 농가의 사육환경개선 노력을 소비자들이 알고 선택할 수 있도록 사육환경 표시 제도를 도입하겠다고 밝혔다.\",\"offset\":266,\"length\":109,\"sentiment\":\"positive\",\"confidence\":{\"negative\":3.0921656E-4,\"positive\":0.9985703,\"neutral\":0.0011204749},\"highlights\":[{\"offset\":86,\"length\":19}]},{\"content\":\" 무허가 적법화와 관련, 무허가 축사 적법화를 위해 노력하는 농가에 대해서는 관계부처와 협의를 거쳐 구제방안을 마련하겠다고 덧붙였다.\",\"offset\":375,\"length\":74,\"sentiment\":\"neutral\",\"confidence\":{\"negative\":4.2286704E-4,\"positive\":0.003022612,\"neutral\":0.9965545},\"highlights\":[{\"offset\":43,\"length\":26}]},{\"content\":\"  17년에도 한돈 5000원 못 이뤄4,958원 전년보다 7.7% ↑10월 이후 약세로 역부족지난해 돼지 값이 전년 대비 오르면서 4년 연속 4천500원(kg당 탕박) 이상을 기록했다.\",\"offset\":449,\"length\":104,\"sentiment\":\"negative\",\"confidence\":{\"negative\":0.9979988,\"positive\":4.6002472E-4,\"neutral\":0.0015411132},\"highlights\":[{\"offset\":43,\"length\":43}]},{\"content\":\" 지난해 평균 돼지 값은 4천958원(12월 27일 기준)으로 지난 16년 4천600원보다 7.7% 가량 올랐다.\",\"offset\":553,\"length\":63,\"sentiment\":\"neutral\",\"confidence\":{\"negative\":2.6012835E-4,\"positive\":9.816206E-4,\"neutral\":0.9987582},\"highlights\":[{\"offset\":56,\"length\":6}]},{\"content\":\" 이로써 지난 14년 이후 돼지 값은 연평균 4천500원 이상을 기록하며 호황을 이어갔다.\",\"offset\":616,\"length\":50,\"sentiment\":\"positive\",\"confidence\":{\"negative\":9.997775E-4,\"positive\":0.9984012,\"neutral\":5.989796E-4},\"highlights\":[{\"offset\":32,\"length\":17}]},{\"content\":\" 돼지 출하두수 증가에도 소비가 늘면서 돈가 강세를 뒷받침한 결과다.\",\"offset\":666,\"length\":38,\"sentiment\":\"positive\",\"confidence\":{\"negative\":9.812855E-4,\"positive\":0.9979498,\"neutral\":0.0010689955},\"highlights\":[{\"offset\":22,\"length\":15}]},{\"content\":\" 그러나 평균 5천원의 문턱은 넘지 못했다.\",\"offset\":704,\"length\":24,\"sentiment\":\"neutral\",\"confidence\":{\"negative\":0.0013937021,\"positive\":1.5079937E-4,\"neutral\":0.9984555},\"highlights\":[{\"offset\":13,\"length\":10}]},{\"content\":\" 지난 9월까지 전년 대비 상승세를 기록해왔던 돼지 값이 10월 이후 물량 증가로 강세를 이어가지 못했기 때문이다.\",\"offset\":728,\"length\":64,\"sentiment\":\"positive\",\"confidence\":{\"negative\":0.36475384,\"positive\":0.3904726,\"neutral\":0.2447736},\"highlights\":[{\"offset\":36,\"length\":16}]},{\"content\":\"  작년 돼지\",\"offset\":792,\"length\":7,\"sentiment\":\"neutral\",\"confidence\":{\"negative\":0.010566126,\"positive\":4.692942E-4,\"neutral\":0.98896456},\"highlights\":[{\"offset\":2,\"length\":5}]}]}\n"
     ]
    }
   ],
   "source": [
    "data = {\n",
    "  \"content\": content\n",
    "}\n",
    "print(json.dumps(data, indent=4, sort_keys=True))\n",
    "response = requests.post(url, data=json.dumps(data), headers=headers)\n",
    "rescode = response.status_code\n",
    "if(rescode == 200):\n",
    "    print (response.text)\n",
    "else:\n",
    "    print(\"Error : \" + response.text)"
   ]
  },
  {
   "cell_type": "code",
   "execution_count": 111,
   "id": "1c754f7b",
   "metadata": {},
   "outputs": [
    {
     "data": {
      "text/plain": [
       "[{'content': '018년, 축산 사육 환경 변화 원년김 장관 신년사서 밝혀정부가 올해 축산, 사육 환경 변화의 원년인 해로 만들겠다고 선포했다.',\n",
       "  'offset': 0,\n",
       "  'length': 71,\n",
       "  'sentiment': 'positive',\n",
       "  'confidence': {'negative': 0.000511196,\n",
       "   'positive': 0.90622634,\n",
       "   'neutral': 0.093262546},\n",
       "  'highlights': [{'offset': 57, 'length': 9}]},\n",
       " {'content': '김영록 농림축산식품부 장관은 최근 신년사에서 금년 10대 주요정책을 발표, 이중 축산 사육 환경도 근본적으로 개선할 것이라고 강조했다.',\n",
       "  'offset': 71,\n",
       "  'length': 75,\n",
       "  'sentiment': 'neutral',\n",
       "  'confidence': {'negative': 0.0005938763,\n",
       "   'positive': 0.0022467526,\n",
       "   'neutral': 0.99715936},\n",
       "  'highlights': [{'offset': 42, 'length': 32}]},\n",
       " {'content': '이를 위해 김 장관은 가축질병 예방과 식품안전 확보를 위한 동물복지축산 로드맵을 만들어 사육밀도, 시설·관리 기준 강화를 통해 올 7월부터 산란계 신규농장에게는 보다 넓어진 사육밀도 기준을 적용할 것이라고 강조했다.',\n",
       "  'offset': 146,\n",
       "  'length': 120,\n",
       "  'sentiment': 'neutral',\n",
       "  'confidence': {'negative': 0.00079921796,\n",
       "   'positive': 0.3210468,\n",
       "   'neutral': 0.678154},\n",
       "  'highlights': [{'offset': 78, 'length': 41}]},\n",
       " {'content': ' 또한 축산농가가 강화된 허가 기준으로 조기에 전환할 수 있도록 시설 개선 자금을 지원하고, 농가의 사육환경개선 노력을 소비자들이 알고 선택할 수 있도록 사육환경 표시 제도를 도입하겠다고 밝혔다.',\n",
       "  'offset': 266,\n",
       "  'length': 109,\n",
       "  'sentiment': 'positive',\n",
       "  'confidence': {'negative': 0.00030921656,\n",
       "   'positive': 0.9985703,\n",
       "   'neutral': 0.0011204749},\n",
       "  'highlights': [{'offset': 86, 'length': 19}]},\n",
       " {'content': ' 무허가 적법화와 관련, 무허가 축사 적법화를 위해 노력하는 농가에 대해서는 관계부처와 협의를 거쳐 구제방안을 마련하겠다고 덧붙였다.',\n",
       "  'offset': 375,\n",
       "  'length': 74,\n",
       "  'sentiment': 'neutral',\n",
       "  'confidence': {'negative': 0.00042286704,\n",
       "   'positive': 0.003022612,\n",
       "   'neutral': 0.9965545},\n",
       "  'highlights': [{'offset': 43, 'length': 26}]},\n",
       " {'content': '  17년에도 한돈 5000원 못 이뤄4,958원 전년보다 7.7% ↑10월 이후 약세로 역부족지난해 돼지 값이 전년 대비 오르면서 4년 연속 4천500원(kg당 탕박) 이상을 기록했다.',\n",
       "  'offset': 449,\n",
       "  'length': 104,\n",
       "  'sentiment': 'negative',\n",
       "  'confidence': {'negative': 0.9979988,\n",
       "   'positive': 0.00046002472,\n",
       "   'neutral': 0.0015411132},\n",
       "  'highlights': [{'offset': 43, 'length': 43}]},\n",
       " {'content': ' 지난해 평균 돼지 값은 4천958원(12월 27일 기준)으로 지난 16년 4천600원보다 7.7% 가량 올랐다.',\n",
       "  'offset': 553,\n",
       "  'length': 63,\n",
       "  'sentiment': 'neutral',\n",
       "  'confidence': {'negative': 0.00026012835,\n",
       "   'positive': 0.0009816206,\n",
       "   'neutral': 0.9987582},\n",
       "  'highlights': [{'offset': 56, 'length': 6}]},\n",
       " {'content': ' 이로써 지난 14년 이후 돼지 값은 연평균 4천500원 이상을 기록하며 호황을 이어갔다.',\n",
       "  'offset': 616,\n",
       "  'length': 50,\n",
       "  'sentiment': 'positive',\n",
       "  'confidence': {'negative': 0.0009997775,\n",
       "   'positive': 0.9984012,\n",
       "   'neutral': 0.0005989796},\n",
       "  'highlights': [{'offset': 32, 'length': 17}]},\n",
       " {'content': ' 돼지 출하두수 증가에도 소비가 늘면서 돈가 강세를 뒷받침한 결과다.',\n",
       "  'offset': 666,\n",
       "  'length': 38,\n",
       "  'sentiment': 'positive',\n",
       "  'confidence': {'negative': 0.0009812855,\n",
       "   'positive': 0.9979498,\n",
       "   'neutral': 0.0010689955},\n",
       "  'highlights': [{'offset': 22, 'length': 15}]},\n",
       " {'content': ' 그러나 평균 5천원의 문턱은 넘지 못했다.',\n",
       "  'offset': 704,\n",
       "  'length': 24,\n",
       "  'sentiment': 'neutral',\n",
       "  'confidence': {'negative': 0.0013937021,\n",
       "   'positive': 0.00015079937,\n",
       "   'neutral': 0.9984555},\n",
       "  'highlights': [{'offset': 13, 'length': 10}]},\n",
       " {'content': ' 지난 9월까지 전년 대비 상승세를 기록해왔던 돼지 값이 10월 이후 물량 증가로 강세를 이어가지 못했기 때문이다.',\n",
       "  'offset': 728,\n",
       "  'length': 64,\n",
       "  'sentiment': 'positive',\n",
       "  'confidence': {'negative': 0.36475384,\n",
       "   'positive': 0.3904726,\n",
       "   'neutral': 0.2447736},\n",
       "  'highlights': [{'offset': 36, 'length': 16}]},\n",
       " {'content': '  작년 돼지',\n",
       "  'offset': 792,\n",
       "  'length': 7,\n",
       "  'sentiment': 'neutral',\n",
       "  'confidence': {'negative': 0.010566126,\n",
       "   'positive': 0.0004692942,\n",
       "   'neutral': 0.98896456},\n",
       "  'highlights': [{'offset': 2, 'length': 5}]}]"
      ]
     },
     "execution_count": 111,
     "metadata": {},
     "output_type": "execute_result"
    }
   ],
   "source": [
    "text=response.json()\n",
    "\n",
    "raw=text['sentences']\n",
    "\n",
    "raw"
   ]
  },
  {
   "cell_type": "code",
   "execution_count": 124,
   "id": "5f46d0da",
   "metadata": {},
   "outputs": [],
   "source": [
    "with open(\"./json_result.json\", 'w') as outfile:\n",
    "    json.dump(raw, outfile)"
   ]
  },
  {
   "cell_type": "code",
   "execution_count": 125,
   "id": "3c680f2e",
   "metadata": {},
   "outputs": [
    {
     "data": {
      "text/plain": [
       "[{'content': '018년, 축산 사육 환경 변화 원년김 장관 신년사서 밝혀정부가 올해 축산, 사육 환경 변화의 원년인 해로 만들겠다고 선포했다.',\n",
       "  'offset': 0,\n",
       "  'length': 71,\n",
       "  'sentiment': 'positive',\n",
       "  'confidence': {'negative': 0.000511196,\n",
       "   'positive': 0.90622634,\n",
       "   'neutral': 0.093262546},\n",
       "  'highlights': [{'offset': 57, 'length': 9}]},\n",
       " {'content': '김영록 농림축산식품부 장관은 최근 신년사에서 금년 10대 주요정책을 발표, 이중 축산 사육 환경도 근본적으로 개선할 것이라고 강조했다.',\n",
       "  'offset': 71,\n",
       "  'length': 75,\n",
       "  'sentiment': 'neutral',\n",
       "  'confidence': {'negative': 0.0005938763,\n",
       "   'positive': 0.0022467526,\n",
       "   'neutral': 0.99715936},\n",
       "  'highlights': [{'offset': 42, 'length': 32}]},\n",
       " {'content': '이를 위해 김 장관은 가축질병 예방과 식품안전 확보를 위한 동물복지축산 로드맵을 만들어 사육밀도, 시설·관리 기준 강화를 통해 올 7월부터 산란계 신규농장에게는 보다 넓어진 사육밀도 기준을 적용할 것이라고 강조했다.',\n",
       "  'offset': 146,\n",
       "  'length': 120,\n",
       "  'sentiment': 'neutral',\n",
       "  'confidence': {'negative': 0.00079921796,\n",
       "   'positive': 0.3210468,\n",
       "   'neutral': 0.678154},\n",
       "  'highlights': [{'offset': 78, 'length': 41}]},\n",
       " {'content': ' 또한 축산농가가 강화된 허가 기준으로 조기에 전환할 수 있도록 시설 개선 자금을 지원하고, 농가의 사육환경개선 노력을 소비자들이 알고 선택할 수 있도록 사육환경 표시 제도를 도입하겠다고 밝혔다.',\n",
       "  'offset': 266,\n",
       "  'length': 109,\n",
       "  'sentiment': 'positive',\n",
       "  'confidence': {'negative': 0.00030921656,\n",
       "   'positive': 0.9985703,\n",
       "   'neutral': 0.0011204749},\n",
       "  'highlights': [{'offset': 86, 'length': 19}]},\n",
       " {'content': ' 무허가 적법화와 관련, 무허가 축사 적법화를 위해 노력하는 농가에 대해서는 관계부처와 협의를 거쳐 구제방안을 마련하겠다고 덧붙였다.',\n",
       "  'offset': 375,\n",
       "  'length': 74,\n",
       "  'sentiment': 'neutral',\n",
       "  'confidence': {'negative': 0.00042286704,\n",
       "   'positive': 0.003022612,\n",
       "   'neutral': 0.9965545},\n",
       "  'highlights': [{'offset': 43, 'length': 26}]},\n",
       " {'content': '  17년에도 한돈 5000원 못 이뤄4,958원 전년보다 7.7% ↑10월 이후 약세로 역부족지난해 돼지 값이 전년 대비 오르면서 4년 연속 4천500원(kg당 탕박) 이상을 기록했다.',\n",
       "  'offset': 449,\n",
       "  'length': 104,\n",
       "  'sentiment': 'negative',\n",
       "  'confidence': {'negative': 0.9979988,\n",
       "   'positive': 0.00046002472,\n",
       "   'neutral': 0.0015411132},\n",
       "  'highlights': [{'offset': 43, 'length': 43}]},\n",
       " {'content': ' 지난해 평균 돼지 값은 4천958원(12월 27일 기준)으로 지난 16년 4천600원보다 7.7% 가량 올랐다.',\n",
       "  'offset': 553,\n",
       "  'length': 63,\n",
       "  'sentiment': 'neutral',\n",
       "  'confidence': {'negative': 0.00026012835,\n",
       "   'positive': 0.0009816206,\n",
       "   'neutral': 0.9987582},\n",
       "  'highlights': [{'offset': 56, 'length': 6}]},\n",
       " {'content': ' 이로써 지난 14년 이후 돼지 값은 연평균 4천500원 이상을 기록하며 호황을 이어갔다.',\n",
       "  'offset': 616,\n",
       "  'length': 50,\n",
       "  'sentiment': 'positive',\n",
       "  'confidence': {'negative': 0.0009997775,\n",
       "   'positive': 0.9984012,\n",
       "   'neutral': 0.0005989796},\n",
       "  'highlights': [{'offset': 32, 'length': 17}]},\n",
       " {'content': ' 돼지 출하두수 증가에도 소비가 늘면서 돈가 강세를 뒷받침한 결과다.',\n",
       "  'offset': 666,\n",
       "  'length': 38,\n",
       "  'sentiment': 'positive',\n",
       "  'confidence': {'negative': 0.0009812855,\n",
       "   'positive': 0.9979498,\n",
       "   'neutral': 0.0010689955},\n",
       "  'highlights': [{'offset': 22, 'length': 15}]},\n",
       " {'content': ' 그러나 평균 5천원의 문턱은 넘지 못했다.',\n",
       "  'offset': 704,\n",
       "  'length': 24,\n",
       "  'sentiment': 'neutral',\n",
       "  'confidence': {'negative': 0.0013937021,\n",
       "   'positive': 0.00015079937,\n",
       "   'neutral': 0.9984555},\n",
       "  'highlights': [{'offset': 13, 'length': 10}]},\n",
       " {'content': ' 지난 9월까지 전년 대비 상승세를 기록해왔던 돼지 값이 10월 이후 물량 증가로 강세를 이어가지 못했기 때문이다.',\n",
       "  'offset': 728,\n",
       "  'length': 64,\n",
       "  'sentiment': 'positive',\n",
       "  'confidence': {'negative': 0.36475384,\n",
       "   'positive': 0.3904726,\n",
       "   'neutral': 0.2447736},\n",
       "  'highlights': [{'offset': 36, 'length': 16}]},\n",
       " {'content': '  작년 돼지',\n",
       "  'offset': 792,\n",
       "  'length': 7,\n",
       "  'sentiment': 'neutral',\n",
       "  'confidence': {'negative': 0.010566126,\n",
       "   'positive': 0.0004692942,\n",
       "   'neutral': 0.98896456},\n",
       "  'highlights': [{'offset': 2, 'length': 5}]}]"
      ]
     },
     "execution_count": 125,
     "metadata": {},
     "output_type": "execute_result"
    }
   ],
   "source": [
    "raw"
   ]
  },
  {
   "cell_type": "code",
   "execution_count": 115,
   "id": "8df93493",
   "metadata": {},
   "outputs": [
    {
     "ename": "ValueError",
     "evalue": "Invalid file path or buffer object type: <class 'dict'>",
     "output_type": "error",
     "traceback": [
      "\u001b[1;31m---------------------------------------------------------------------------\u001b[0m",
      "\u001b[1;31mValueError\u001b[0m                                Traceback (most recent call last)",
      "Cell \u001b[1;32mIn[115], line 1\u001b[0m\n\u001b[1;32m----> 1\u001b[0m df \u001b[38;5;241m=\u001b[39m \u001b[43mpd\u001b[49m\u001b[38;5;241;43m.\u001b[39;49m\u001b[43mread_json\u001b[49m\u001b[43m(\u001b[49m\u001b[43mraw\u001b[49m\u001b[43m[\u001b[49m\u001b[38;5;241;43m0\u001b[39;49m\u001b[43m]\u001b[49m\u001b[43m)\u001b[49m\n",
      "File \u001b[1;32m~\\Anaconda3\\envs\\py38\\lib\\site-packages\\pandas\\util\\_decorators.py:211\u001b[0m, in \u001b[0;36mdeprecate_kwarg.<locals>._deprecate_kwarg.<locals>.wrapper\u001b[1;34m(*args, **kwargs)\u001b[0m\n\u001b[0;32m    209\u001b[0m     \u001b[38;5;28;01melse\u001b[39;00m:\n\u001b[0;32m    210\u001b[0m         kwargs[new_arg_name] \u001b[38;5;241m=\u001b[39m new_arg_value\n\u001b[1;32m--> 211\u001b[0m \u001b[38;5;28;01mreturn\u001b[39;00m \u001b[43mfunc\u001b[49m\u001b[43m(\u001b[49m\u001b[38;5;241;43m*\u001b[39;49m\u001b[43margs\u001b[49m\u001b[43m,\u001b[49m\u001b[43m \u001b[49m\u001b[38;5;241;43m*\u001b[39;49m\u001b[38;5;241;43m*\u001b[39;49m\u001b[43mkwargs\u001b[49m\u001b[43m)\u001b[49m\n",
      "File \u001b[1;32m~\\Anaconda3\\envs\\py38\\lib\\site-packages\\pandas\\util\\_decorators.py:331\u001b[0m, in \u001b[0;36mdeprecate_nonkeyword_arguments.<locals>.decorate.<locals>.wrapper\u001b[1;34m(*args, **kwargs)\u001b[0m\n\u001b[0;32m    325\u001b[0m \u001b[38;5;28;01mif\u001b[39;00m \u001b[38;5;28mlen\u001b[39m(args) \u001b[38;5;241m>\u001b[39m num_allow_args:\n\u001b[0;32m    326\u001b[0m     warnings\u001b[38;5;241m.\u001b[39mwarn(\n\u001b[0;32m    327\u001b[0m         msg\u001b[38;5;241m.\u001b[39mformat(arguments\u001b[38;5;241m=\u001b[39m_format_argument_list(allow_args)),\n\u001b[0;32m    328\u001b[0m         \u001b[38;5;167;01mFutureWarning\u001b[39;00m,\n\u001b[0;32m    329\u001b[0m         stacklevel\u001b[38;5;241m=\u001b[39mfind_stack_level(),\n\u001b[0;32m    330\u001b[0m     )\n\u001b[1;32m--> 331\u001b[0m \u001b[38;5;28;01mreturn\u001b[39;00m \u001b[43mfunc\u001b[49m\u001b[43m(\u001b[49m\u001b[38;5;241;43m*\u001b[39;49m\u001b[43margs\u001b[49m\u001b[43m,\u001b[49m\u001b[43m \u001b[49m\u001b[38;5;241;43m*\u001b[39;49m\u001b[38;5;241;43m*\u001b[39;49m\u001b[43mkwargs\u001b[49m\u001b[43m)\u001b[49m\n",
      "File \u001b[1;32m~\\Anaconda3\\envs\\py38\\lib\\site-packages\\pandas\\io\\json\\_json.py:733\u001b[0m, in \u001b[0;36mread_json\u001b[1;34m(path_or_buf, orient, typ, dtype, convert_axes, convert_dates, keep_default_dates, numpy, precise_float, date_unit, encoding, encoding_errors, lines, chunksize, compression, nrows, storage_options)\u001b[0m\n\u001b[0;32m    730\u001b[0m \u001b[38;5;28;01mif\u001b[39;00m convert_axes \u001b[38;5;129;01mis\u001b[39;00m \u001b[38;5;28;01mNone\u001b[39;00m \u001b[38;5;129;01mand\u001b[39;00m orient \u001b[38;5;241m!=\u001b[39m \u001b[38;5;124m\"\u001b[39m\u001b[38;5;124mtable\u001b[39m\u001b[38;5;124m\"\u001b[39m:\n\u001b[0;32m    731\u001b[0m     convert_axes \u001b[38;5;241m=\u001b[39m \u001b[38;5;28;01mTrue\u001b[39;00m\n\u001b[1;32m--> 733\u001b[0m json_reader \u001b[38;5;241m=\u001b[39m \u001b[43mJsonReader\u001b[49m\u001b[43m(\u001b[49m\n\u001b[0;32m    734\u001b[0m \u001b[43m    \u001b[49m\u001b[43mpath_or_buf\u001b[49m\u001b[43m,\u001b[49m\n\u001b[0;32m    735\u001b[0m \u001b[43m    \u001b[49m\u001b[43morient\u001b[49m\u001b[38;5;241;43m=\u001b[39;49m\u001b[43morient\u001b[49m\u001b[43m,\u001b[49m\n\u001b[0;32m    736\u001b[0m \u001b[43m    \u001b[49m\u001b[43mtyp\u001b[49m\u001b[38;5;241;43m=\u001b[39;49m\u001b[43mtyp\u001b[49m\u001b[43m,\u001b[49m\n\u001b[0;32m    737\u001b[0m \u001b[43m    \u001b[49m\u001b[43mdtype\u001b[49m\u001b[38;5;241;43m=\u001b[39;49m\u001b[43mdtype\u001b[49m\u001b[43m,\u001b[49m\n\u001b[0;32m    738\u001b[0m \u001b[43m    \u001b[49m\u001b[43mconvert_axes\u001b[49m\u001b[38;5;241;43m=\u001b[39;49m\u001b[43mconvert_axes\u001b[49m\u001b[43m,\u001b[49m\n\u001b[0;32m    739\u001b[0m \u001b[43m    \u001b[49m\u001b[43mconvert_dates\u001b[49m\u001b[38;5;241;43m=\u001b[39;49m\u001b[43mconvert_dates\u001b[49m\u001b[43m,\u001b[49m\n\u001b[0;32m    740\u001b[0m \u001b[43m    \u001b[49m\u001b[43mkeep_default_dates\u001b[49m\u001b[38;5;241;43m=\u001b[39;49m\u001b[43mkeep_default_dates\u001b[49m\u001b[43m,\u001b[49m\n\u001b[0;32m    741\u001b[0m \u001b[43m    \u001b[49m\u001b[43mnumpy\u001b[49m\u001b[38;5;241;43m=\u001b[39;49m\u001b[43mnumpy\u001b[49m\u001b[43m,\u001b[49m\n\u001b[0;32m    742\u001b[0m \u001b[43m    \u001b[49m\u001b[43mprecise_float\u001b[49m\u001b[38;5;241;43m=\u001b[39;49m\u001b[43mprecise_float\u001b[49m\u001b[43m,\u001b[49m\n\u001b[0;32m    743\u001b[0m \u001b[43m    \u001b[49m\u001b[43mdate_unit\u001b[49m\u001b[38;5;241;43m=\u001b[39;49m\u001b[43mdate_unit\u001b[49m\u001b[43m,\u001b[49m\n\u001b[0;32m    744\u001b[0m \u001b[43m    \u001b[49m\u001b[43mencoding\u001b[49m\u001b[38;5;241;43m=\u001b[39;49m\u001b[43mencoding\u001b[49m\u001b[43m,\u001b[49m\n\u001b[0;32m    745\u001b[0m \u001b[43m    \u001b[49m\u001b[43mlines\u001b[49m\u001b[38;5;241;43m=\u001b[39;49m\u001b[43mlines\u001b[49m\u001b[43m,\u001b[49m\n\u001b[0;32m    746\u001b[0m \u001b[43m    \u001b[49m\u001b[43mchunksize\u001b[49m\u001b[38;5;241;43m=\u001b[39;49m\u001b[43mchunksize\u001b[49m\u001b[43m,\u001b[49m\n\u001b[0;32m    747\u001b[0m \u001b[43m    \u001b[49m\u001b[43mcompression\u001b[49m\u001b[38;5;241;43m=\u001b[39;49m\u001b[43mcompression\u001b[49m\u001b[43m,\u001b[49m\n\u001b[0;32m    748\u001b[0m \u001b[43m    \u001b[49m\u001b[43mnrows\u001b[49m\u001b[38;5;241;43m=\u001b[39;49m\u001b[43mnrows\u001b[49m\u001b[43m,\u001b[49m\n\u001b[0;32m    749\u001b[0m \u001b[43m    \u001b[49m\u001b[43mstorage_options\u001b[49m\u001b[38;5;241;43m=\u001b[39;49m\u001b[43mstorage_options\u001b[49m\u001b[43m,\u001b[49m\n\u001b[0;32m    750\u001b[0m \u001b[43m    \u001b[49m\u001b[43mencoding_errors\u001b[49m\u001b[38;5;241;43m=\u001b[39;49m\u001b[43mencoding_errors\u001b[49m\u001b[43m,\u001b[49m\n\u001b[0;32m    751\u001b[0m \u001b[43m\u001b[49m\u001b[43m)\u001b[49m\n\u001b[0;32m    753\u001b[0m \u001b[38;5;28;01mif\u001b[39;00m chunksize:\n\u001b[0;32m    754\u001b[0m     \u001b[38;5;28;01mreturn\u001b[39;00m json_reader\n",
      "File \u001b[1;32m~\\Anaconda3\\envs\\py38\\lib\\site-packages\\pandas\\io\\json\\_json.py:818\u001b[0m, in \u001b[0;36mJsonReader.__init__\u001b[1;34m(self, filepath_or_buffer, orient, typ, dtype, convert_axes, convert_dates, keep_default_dates, numpy, precise_float, date_unit, encoding, lines, chunksize, compression, nrows, storage_options, encoding_errors)\u001b[0m\n\u001b[0;32m    815\u001b[0m     \u001b[38;5;28;01mif\u001b[39;00m \u001b[38;5;129;01mnot\u001b[39;00m \u001b[38;5;28mself\u001b[39m\u001b[38;5;241m.\u001b[39mlines:\n\u001b[0;32m    816\u001b[0m         \u001b[38;5;28;01mraise\u001b[39;00m \u001b[38;5;167;01mValueError\u001b[39;00m(\u001b[38;5;124m\"\u001b[39m\u001b[38;5;124mnrows can only be passed if lines=True\u001b[39m\u001b[38;5;124m\"\u001b[39m)\n\u001b[1;32m--> 818\u001b[0m data \u001b[38;5;241m=\u001b[39m \u001b[38;5;28;43mself\u001b[39;49m\u001b[38;5;241;43m.\u001b[39;49m\u001b[43m_get_data_from_filepath\u001b[49m\u001b[43m(\u001b[49m\u001b[43mfilepath_or_buffer\u001b[49m\u001b[43m)\u001b[49m\n\u001b[0;32m    819\u001b[0m \u001b[38;5;28mself\u001b[39m\u001b[38;5;241m.\u001b[39mdata \u001b[38;5;241m=\u001b[39m \u001b[38;5;28mself\u001b[39m\u001b[38;5;241m.\u001b[39m_preprocess_data(data)\n",
      "File \u001b[1;32m~\\Anaconda3\\envs\\py38\\lib\\site-packages\\pandas\\io\\json\\_json.py:858\u001b[0m, in \u001b[0;36mJsonReader._get_data_from_filepath\u001b[1;34m(self, filepath_or_buffer)\u001b[0m\n\u001b[0;32m    851\u001b[0m filepath_or_buffer \u001b[38;5;241m=\u001b[39m stringify_path(filepath_or_buffer)\n\u001b[0;32m    852\u001b[0m \u001b[38;5;28;01mif\u001b[39;00m (\n\u001b[0;32m    853\u001b[0m     \u001b[38;5;129;01mnot\u001b[39;00m \u001b[38;5;28misinstance\u001b[39m(filepath_or_buffer, \u001b[38;5;28mstr\u001b[39m)\n\u001b[0;32m    854\u001b[0m     \u001b[38;5;129;01mor\u001b[39;00m is_url(filepath_or_buffer)\n\u001b[0;32m    855\u001b[0m     \u001b[38;5;129;01mor\u001b[39;00m is_fsspec_url(filepath_or_buffer)\n\u001b[0;32m    856\u001b[0m     \u001b[38;5;129;01mor\u001b[39;00m file_exists(filepath_or_buffer)\n\u001b[0;32m    857\u001b[0m ):\n\u001b[1;32m--> 858\u001b[0m     \u001b[38;5;28mself\u001b[39m\u001b[38;5;241m.\u001b[39mhandles \u001b[38;5;241m=\u001b[39m \u001b[43mget_handle\u001b[49m\u001b[43m(\u001b[49m\n\u001b[0;32m    859\u001b[0m \u001b[43m        \u001b[49m\u001b[43mfilepath_or_buffer\u001b[49m\u001b[43m,\u001b[49m\n\u001b[0;32m    860\u001b[0m \u001b[43m        \u001b[49m\u001b[38;5;124;43m\"\u001b[39;49m\u001b[38;5;124;43mr\u001b[39;49m\u001b[38;5;124;43m\"\u001b[39;49m\u001b[43m,\u001b[49m\n\u001b[0;32m    861\u001b[0m \u001b[43m        \u001b[49m\u001b[43mencoding\u001b[49m\u001b[38;5;241;43m=\u001b[39;49m\u001b[38;5;28;43mself\u001b[39;49m\u001b[38;5;241;43m.\u001b[39;49m\u001b[43mencoding\u001b[49m\u001b[43m,\u001b[49m\n\u001b[0;32m    862\u001b[0m \u001b[43m        \u001b[49m\u001b[43mcompression\u001b[49m\u001b[38;5;241;43m=\u001b[39;49m\u001b[38;5;28;43mself\u001b[39;49m\u001b[38;5;241;43m.\u001b[39;49m\u001b[43mcompression\u001b[49m\u001b[43m,\u001b[49m\n\u001b[0;32m    863\u001b[0m \u001b[43m        \u001b[49m\u001b[43mstorage_options\u001b[49m\u001b[38;5;241;43m=\u001b[39;49m\u001b[38;5;28;43mself\u001b[39;49m\u001b[38;5;241;43m.\u001b[39;49m\u001b[43mstorage_options\u001b[49m\u001b[43m,\u001b[49m\n\u001b[0;32m    864\u001b[0m \u001b[43m        \u001b[49m\u001b[43merrors\u001b[49m\u001b[38;5;241;43m=\u001b[39;49m\u001b[38;5;28;43mself\u001b[39;49m\u001b[38;5;241;43m.\u001b[39;49m\u001b[43mencoding_errors\u001b[49m\u001b[43m,\u001b[49m\n\u001b[0;32m    865\u001b[0m \u001b[43m    \u001b[49m\u001b[43m)\u001b[49m\n\u001b[0;32m    866\u001b[0m     filepath_or_buffer \u001b[38;5;241m=\u001b[39m \u001b[38;5;28mself\u001b[39m\u001b[38;5;241m.\u001b[39mhandles\u001b[38;5;241m.\u001b[39mhandle\n\u001b[0;32m    867\u001b[0m \u001b[38;5;28;01melif\u001b[39;00m (\n\u001b[0;32m    868\u001b[0m     \u001b[38;5;28misinstance\u001b[39m(filepath_or_buffer, \u001b[38;5;28mstr\u001b[39m)\n\u001b[0;32m    869\u001b[0m     \u001b[38;5;129;01mand\u001b[39;00m filepath_or_buffer\u001b[38;5;241m.\u001b[39mlower()\u001b[38;5;241m.\u001b[39mendswith(\n\u001b[1;32m   (...)\u001b[0m\n\u001b[0;32m    872\u001b[0m     \u001b[38;5;129;01mand\u001b[39;00m \u001b[38;5;129;01mnot\u001b[39;00m file_exists(filepath_or_buffer)\n\u001b[0;32m    873\u001b[0m ):\n",
      "File \u001b[1;32m~\\Anaconda3\\envs\\py38\\lib\\site-packages\\pandas\\io\\common.py:713\u001b[0m, in \u001b[0;36mget_handle\u001b[1;34m(path_or_buf, mode, encoding, compression, memory_map, is_text, errors, storage_options)\u001b[0m\n\u001b[0;32m    710\u001b[0m     codecs\u001b[38;5;241m.\u001b[39mlookup_error(errors)\n\u001b[0;32m    712\u001b[0m \u001b[38;5;66;03m# open URLs\u001b[39;00m\n\u001b[1;32m--> 713\u001b[0m ioargs \u001b[38;5;241m=\u001b[39m \u001b[43m_get_filepath_or_buffer\u001b[49m\u001b[43m(\u001b[49m\n\u001b[0;32m    714\u001b[0m \u001b[43m    \u001b[49m\u001b[43mpath_or_buf\u001b[49m\u001b[43m,\u001b[49m\n\u001b[0;32m    715\u001b[0m \u001b[43m    \u001b[49m\u001b[43mencoding\u001b[49m\u001b[38;5;241;43m=\u001b[39;49m\u001b[43mencoding\u001b[49m\u001b[43m,\u001b[49m\n\u001b[0;32m    716\u001b[0m \u001b[43m    \u001b[49m\u001b[43mcompression\u001b[49m\u001b[38;5;241;43m=\u001b[39;49m\u001b[43mcompression\u001b[49m\u001b[43m,\u001b[49m\n\u001b[0;32m    717\u001b[0m \u001b[43m    \u001b[49m\u001b[43mmode\u001b[49m\u001b[38;5;241;43m=\u001b[39;49m\u001b[43mmode\u001b[49m\u001b[43m,\u001b[49m\n\u001b[0;32m    718\u001b[0m \u001b[43m    \u001b[49m\u001b[43mstorage_options\u001b[49m\u001b[38;5;241;43m=\u001b[39;49m\u001b[43mstorage_options\u001b[49m\u001b[43m,\u001b[49m\n\u001b[0;32m    719\u001b[0m \u001b[43m\u001b[49m\u001b[43m)\u001b[49m\n\u001b[0;32m    721\u001b[0m handle \u001b[38;5;241m=\u001b[39m ioargs\u001b[38;5;241m.\u001b[39mfilepath_or_buffer\n\u001b[0;32m    722\u001b[0m handles: \u001b[38;5;28mlist\u001b[39m[BaseBuffer]\n",
      "File \u001b[1;32m~\\Anaconda3\\envs\\py38\\lib\\site-packages\\pandas\\io\\common.py:451\u001b[0m, in \u001b[0;36m_get_filepath_or_buffer\u001b[1;34m(filepath_or_buffer, encoding, compression, mode, storage_options)\u001b[0m\n\u001b[0;32m    447\u001b[0m \u001b[38;5;28;01mif\u001b[39;00m \u001b[38;5;129;01mnot\u001b[39;00m (\n\u001b[0;32m    448\u001b[0m     \u001b[38;5;28mhasattr\u001b[39m(filepath_or_buffer, \u001b[38;5;124m\"\u001b[39m\u001b[38;5;124mread\u001b[39m\u001b[38;5;124m\"\u001b[39m) \u001b[38;5;129;01mor\u001b[39;00m \u001b[38;5;28mhasattr\u001b[39m(filepath_or_buffer, \u001b[38;5;124m\"\u001b[39m\u001b[38;5;124mwrite\u001b[39m\u001b[38;5;124m\"\u001b[39m)\n\u001b[0;32m    449\u001b[0m ):\n\u001b[0;32m    450\u001b[0m     msg \u001b[38;5;241m=\u001b[39m \u001b[38;5;124mf\u001b[39m\u001b[38;5;124m\"\u001b[39m\u001b[38;5;124mInvalid file path or buffer object type: \u001b[39m\u001b[38;5;132;01m{\u001b[39;00m\u001b[38;5;28mtype\u001b[39m(filepath_or_buffer)\u001b[38;5;132;01m}\u001b[39;00m\u001b[38;5;124m\"\u001b[39m\n\u001b[1;32m--> 451\u001b[0m     \u001b[38;5;28;01mraise\u001b[39;00m \u001b[38;5;167;01mValueError\u001b[39;00m(msg)\n\u001b[0;32m    453\u001b[0m \u001b[38;5;28;01mreturn\u001b[39;00m IOArgs(\n\u001b[0;32m    454\u001b[0m     filepath_or_buffer\u001b[38;5;241m=\u001b[39mfilepath_or_buffer,\n\u001b[0;32m    455\u001b[0m     encoding\u001b[38;5;241m=\u001b[39mencoding,\n\u001b[1;32m   (...)\u001b[0m\n\u001b[0;32m    458\u001b[0m     mode\u001b[38;5;241m=\u001b[39mmode,\n\u001b[0;32m    459\u001b[0m )\n",
      "\u001b[1;31mValueError\u001b[0m: Invalid file path or buffer object type: <class 'dict'>"
     ]
    }
   ],
   "source": [
    "df = pd.read_json(raw[0])"
   ]
  },
  {
   "cell_type": "code",
   "execution_count": 119,
   "id": "4195cc21",
   "metadata": {},
   "outputs": [
    {
     "ename": "ValueError",
     "evalue": "Mixing dicts with non-Series may lead to ambiguous ordering.",
     "output_type": "error",
     "traceback": [
      "\u001b[1;31m---------------------------------------------------------------------------\u001b[0m",
      "\u001b[1;31mValueError\u001b[0m                                Traceback (most recent call last)",
      "Cell \u001b[1;32mIn[119], line 1\u001b[0m\n\u001b[1;32m----> 1\u001b[0m df\u001b[38;5;241m=\u001b[39m\u001b[43mpd\u001b[49m\u001b[38;5;241;43m.\u001b[39;49m\u001b[43mDataFrame\u001b[49m\u001b[38;5;241;43m.\u001b[39;49m\u001b[43mfrom_dict\u001b[49m\u001b[43m(\u001b[49m\u001b[43mraw\u001b[49m\u001b[43m[\u001b[49m\u001b[38;5;241;43m0\u001b[39;49m\u001b[43m]\u001b[49m\u001b[43m)\u001b[49m\n",
      "File \u001b[1;32m~\\Anaconda3\\envs\\py38\\lib\\site-packages\\pandas\\core\\frame.py:1763\u001b[0m, in \u001b[0;36mDataFrame.from_dict\u001b[1;34m(cls, data, orient, dtype, columns)\u001b[0m\n\u001b[0;32m   1757\u001b[0m     \u001b[38;5;28;01mraise\u001b[39;00m \u001b[38;5;167;01mValueError\u001b[39;00m(\n\u001b[0;32m   1758\u001b[0m         \u001b[38;5;124mf\u001b[39m\u001b[38;5;124m\"\u001b[39m\u001b[38;5;124mExpected \u001b[39m\u001b[38;5;124m'\u001b[39m\u001b[38;5;124mindex\u001b[39m\u001b[38;5;124m'\u001b[39m\u001b[38;5;124m, \u001b[39m\u001b[38;5;124m'\u001b[39m\u001b[38;5;124mcolumns\u001b[39m\u001b[38;5;124m'\u001b[39m\u001b[38;5;124m or \u001b[39m\u001b[38;5;124m'\u001b[39m\u001b[38;5;124mtight\u001b[39m\u001b[38;5;124m'\u001b[39m\u001b[38;5;124m for orient parameter. \u001b[39m\u001b[38;5;124m\"\u001b[39m\n\u001b[0;32m   1759\u001b[0m         \u001b[38;5;124mf\u001b[39m\u001b[38;5;124m\"\u001b[39m\u001b[38;5;124mGot \u001b[39m\u001b[38;5;124m'\u001b[39m\u001b[38;5;132;01m{\u001b[39;00morient\u001b[38;5;132;01m}\u001b[39;00m\u001b[38;5;124m'\u001b[39m\u001b[38;5;124m instead\u001b[39m\u001b[38;5;124m\"\u001b[39m\n\u001b[0;32m   1760\u001b[0m     )\n\u001b[0;32m   1762\u001b[0m \u001b[38;5;28;01mif\u001b[39;00m orient \u001b[38;5;241m!=\u001b[39m \u001b[38;5;124m\"\u001b[39m\u001b[38;5;124mtight\u001b[39m\u001b[38;5;124m\"\u001b[39m:\n\u001b[1;32m-> 1763\u001b[0m     \u001b[38;5;28;01mreturn\u001b[39;00m \u001b[38;5;28;43mcls\u001b[39;49m\u001b[43m(\u001b[49m\u001b[43mdata\u001b[49m\u001b[43m,\u001b[49m\u001b[43m \u001b[49m\u001b[43mindex\u001b[49m\u001b[38;5;241;43m=\u001b[39;49m\u001b[43mindex\u001b[49m\u001b[43m,\u001b[49m\u001b[43m \u001b[49m\u001b[43mcolumns\u001b[49m\u001b[38;5;241;43m=\u001b[39;49m\u001b[43mcolumns\u001b[49m\u001b[43m,\u001b[49m\u001b[43m \u001b[49m\u001b[43mdtype\u001b[49m\u001b[38;5;241;43m=\u001b[39;49m\u001b[43mdtype\u001b[49m\u001b[43m)\u001b[49m\n\u001b[0;32m   1764\u001b[0m \u001b[38;5;28;01melse\u001b[39;00m:\n\u001b[0;32m   1765\u001b[0m     realdata \u001b[38;5;241m=\u001b[39m data[\u001b[38;5;124m\"\u001b[39m\u001b[38;5;124mdata\u001b[39m\u001b[38;5;124m\"\u001b[39m]\n",
      "File \u001b[1;32m~\\Anaconda3\\envs\\py38\\lib\\site-packages\\pandas\\core\\frame.py:663\u001b[0m, in \u001b[0;36mDataFrame.__init__\u001b[1;34m(self, data, index, columns, dtype, copy)\u001b[0m\n\u001b[0;32m    657\u001b[0m     mgr \u001b[38;5;241m=\u001b[39m \u001b[38;5;28mself\u001b[39m\u001b[38;5;241m.\u001b[39m_init_mgr(\n\u001b[0;32m    658\u001b[0m         data, axes\u001b[38;5;241m=\u001b[39m{\u001b[38;5;124m\"\u001b[39m\u001b[38;5;124mindex\u001b[39m\u001b[38;5;124m\"\u001b[39m: index, \u001b[38;5;124m\"\u001b[39m\u001b[38;5;124mcolumns\u001b[39m\u001b[38;5;124m\"\u001b[39m: columns}, dtype\u001b[38;5;241m=\u001b[39mdtype, copy\u001b[38;5;241m=\u001b[39mcopy\n\u001b[0;32m    659\u001b[0m     )\n\u001b[0;32m    661\u001b[0m \u001b[38;5;28;01melif\u001b[39;00m \u001b[38;5;28misinstance\u001b[39m(data, \u001b[38;5;28mdict\u001b[39m):\n\u001b[0;32m    662\u001b[0m     \u001b[38;5;66;03m# GH#38939 de facto copy defaults to False only in non-dict cases\u001b[39;00m\n\u001b[1;32m--> 663\u001b[0m     mgr \u001b[38;5;241m=\u001b[39m \u001b[43mdict_to_mgr\u001b[49m\u001b[43m(\u001b[49m\u001b[43mdata\u001b[49m\u001b[43m,\u001b[49m\u001b[43m \u001b[49m\u001b[43mindex\u001b[49m\u001b[43m,\u001b[49m\u001b[43m \u001b[49m\u001b[43mcolumns\u001b[49m\u001b[43m,\u001b[49m\u001b[43m \u001b[49m\u001b[43mdtype\u001b[49m\u001b[38;5;241;43m=\u001b[39;49m\u001b[43mdtype\u001b[49m\u001b[43m,\u001b[49m\u001b[43m \u001b[49m\u001b[43mcopy\u001b[49m\u001b[38;5;241;43m=\u001b[39;49m\u001b[43mcopy\u001b[49m\u001b[43m,\u001b[49m\u001b[43m \u001b[49m\u001b[43mtyp\u001b[49m\u001b[38;5;241;43m=\u001b[39;49m\u001b[43mmanager\u001b[49m\u001b[43m)\u001b[49m\n\u001b[0;32m    664\u001b[0m \u001b[38;5;28;01melif\u001b[39;00m \u001b[38;5;28misinstance\u001b[39m(data, ma\u001b[38;5;241m.\u001b[39mMaskedArray):\n\u001b[0;32m    665\u001b[0m     \u001b[38;5;28;01mimport\u001b[39;00m \u001b[38;5;21;01mnumpy\u001b[39;00m\u001b[38;5;21;01m.\u001b[39;00m\u001b[38;5;21;01mma\u001b[39;00m\u001b[38;5;21;01m.\u001b[39;00m\u001b[38;5;21;01mmrecords\u001b[39;00m \u001b[38;5;28;01mas\u001b[39;00m \u001b[38;5;21;01mmrecords\u001b[39;00m\n",
      "File \u001b[1;32m~\\Anaconda3\\envs\\py38\\lib\\site-packages\\pandas\\core\\internals\\construction.py:493\u001b[0m, in \u001b[0;36mdict_to_mgr\u001b[1;34m(data, index, columns, dtype, typ, copy)\u001b[0m\n\u001b[0;32m    489\u001b[0m     \u001b[38;5;28;01melse\u001b[39;00m:\n\u001b[0;32m    490\u001b[0m         \u001b[38;5;66;03m# dtype check to exclude e.g. range objects, scalars\u001b[39;00m\n\u001b[0;32m    491\u001b[0m         arrays \u001b[38;5;241m=\u001b[39m [x\u001b[38;5;241m.\u001b[39mcopy() \u001b[38;5;28;01mif\u001b[39;00m \u001b[38;5;28mhasattr\u001b[39m(x, \u001b[38;5;124m\"\u001b[39m\u001b[38;5;124mdtype\u001b[39m\u001b[38;5;124m\"\u001b[39m) \u001b[38;5;28;01melse\u001b[39;00m x \u001b[38;5;28;01mfor\u001b[39;00m x \u001b[38;5;129;01min\u001b[39;00m arrays]\n\u001b[1;32m--> 493\u001b[0m \u001b[38;5;28;01mreturn\u001b[39;00m \u001b[43marrays_to_mgr\u001b[49m\u001b[43m(\u001b[49m\u001b[43marrays\u001b[49m\u001b[43m,\u001b[49m\u001b[43m \u001b[49m\u001b[43mcolumns\u001b[49m\u001b[43m,\u001b[49m\u001b[43m \u001b[49m\u001b[43mindex\u001b[49m\u001b[43m,\u001b[49m\u001b[43m \u001b[49m\u001b[43mdtype\u001b[49m\u001b[38;5;241;43m=\u001b[39;49m\u001b[43mdtype\u001b[49m\u001b[43m,\u001b[49m\u001b[43m \u001b[49m\u001b[43mtyp\u001b[49m\u001b[38;5;241;43m=\u001b[39;49m\u001b[43mtyp\u001b[49m\u001b[43m,\u001b[49m\u001b[43m \u001b[49m\u001b[43mconsolidate\u001b[49m\u001b[38;5;241;43m=\u001b[39;49m\u001b[43mcopy\u001b[49m\u001b[43m)\u001b[49m\n",
      "File \u001b[1;32m~\\Anaconda3\\envs\\py38\\lib\\site-packages\\pandas\\core\\internals\\construction.py:118\u001b[0m, in \u001b[0;36marrays_to_mgr\u001b[1;34m(arrays, columns, index, dtype, verify_integrity, typ, consolidate)\u001b[0m\n\u001b[0;32m    115\u001b[0m \u001b[38;5;28;01mif\u001b[39;00m verify_integrity:\n\u001b[0;32m    116\u001b[0m     \u001b[38;5;66;03m# figure out the index, if necessary\u001b[39;00m\n\u001b[0;32m    117\u001b[0m     \u001b[38;5;28;01mif\u001b[39;00m index \u001b[38;5;129;01mis\u001b[39;00m \u001b[38;5;28;01mNone\u001b[39;00m:\n\u001b[1;32m--> 118\u001b[0m         index \u001b[38;5;241m=\u001b[39m \u001b[43m_extract_index\u001b[49m\u001b[43m(\u001b[49m\u001b[43marrays\u001b[49m\u001b[43m)\u001b[49m\n\u001b[0;32m    119\u001b[0m     \u001b[38;5;28;01melse\u001b[39;00m:\n\u001b[0;32m    120\u001b[0m         index \u001b[38;5;241m=\u001b[39m ensure_index(index)\n",
      "File \u001b[1;32m~\\Anaconda3\\envs\\py38\\lib\\site-packages\\pandas\\core\\internals\\construction.py:669\u001b[0m, in \u001b[0;36m_extract_index\u001b[1;34m(data)\u001b[0m\n\u001b[0;32m    666\u001b[0m     \u001b[38;5;28;01mraise\u001b[39;00m \u001b[38;5;167;01mValueError\u001b[39;00m(\u001b[38;5;124m\"\u001b[39m\u001b[38;5;124mAll arrays must be of the same length\u001b[39m\u001b[38;5;124m\"\u001b[39m)\n\u001b[0;32m    668\u001b[0m \u001b[38;5;28;01mif\u001b[39;00m have_dicts:\n\u001b[1;32m--> 669\u001b[0m     \u001b[38;5;28;01mraise\u001b[39;00m \u001b[38;5;167;01mValueError\u001b[39;00m(\n\u001b[0;32m    670\u001b[0m         \u001b[38;5;124m\"\u001b[39m\u001b[38;5;124mMixing dicts with non-Series may lead to ambiguous ordering.\u001b[39m\u001b[38;5;124m\"\u001b[39m\n\u001b[0;32m    671\u001b[0m     )\n\u001b[0;32m    673\u001b[0m \u001b[38;5;28;01mif\u001b[39;00m have_series:\n\u001b[0;32m    674\u001b[0m     \u001b[38;5;28;01massert\u001b[39;00m index \u001b[38;5;129;01mis\u001b[39;00m \u001b[38;5;129;01mnot\u001b[39;00m \u001b[38;5;28;01mNone\u001b[39;00m  \u001b[38;5;66;03m# for mypy\u001b[39;00m\n",
      "\u001b[1;31mValueError\u001b[0m: Mixing dicts with non-Series may lead to ambiguous ordering."
     ]
    }
   ],
   "source": [
    "df=pd.DataFrame.from_dict(raw[0])"
   ]
  },
  {
   "cell_type": "code",
   "execution_count": 120,
   "id": "488b51b3",
   "metadata": {},
   "outputs": [
    {
     "data": {
      "text/plain": [
       "{'content': '018년, 축산 사육 환경 변화 원년김 장관 신년사서 밝혀정부가 올해 축산, 사육 환경 변화의 원년인 해로 만들겠다고 선포했다.',\n",
       " 'offset': 0,\n",
       " 'length': 71,\n",
       " 'sentiment': 'positive',\n",
       " 'confidence': {'negative': 0.000511196,\n",
       "  'positive': 0.90622634,\n",
       "  'neutral': 0.093262546},\n",
       " 'highlights': [{'offset': 57, 'length': 9}]}"
      ]
     },
     "execution_count": 120,
     "metadata": {},
     "output_type": "execute_result"
    }
   ],
   "source": [
    "raw[0]"
   ]
  },
  {
   "cell_type": "code",
   "execution_count": 75,
   "id": "b5cec457",
   "metadata": {},
   "outputs": [
    {
     "ename": "IndentationError",
     "evalue": "unexpected indent (3499634850.py, line 2)",
     "output_type": "error",
     "traceback": [
      "\u001b[1;36m  Cell \u001b[1;32mIn[75], line 2\u001b[1;36m\u001b[0m\n\u001b[1;33m    offset = int(raw[i]['highlights'][0]['offset']) #오프셋\u001b[0m\n\u001b[1;37m    ^\u001b[0m\n\u001b[1;31mIndentationError\u001b[0m\u001b[1;31m:\u001b[0m unexpected indent\n"
     ]
    }
   ],
   "source": [
    "import json\n",
    "\n",
    "    f = open('./news_stem/stem_list{}.txt'.format(i), 'r',encoding='UTF-8')\n",
    "\n",
    "\n",
    "n = 1 #첫번째\n",
    "m = 800  #두번째\n",
    "\n",
    "for i in range(1, 2) : #41번\n",
    "    client_id = \"\"  #클라이언트 키\n",
    "    client_secret = \"\" #클라이언트 시크릿 키\n",
    "\n",
    "    url=\"https://naveropenapi.apigw.ntruss.com/sentiment-analysis/v1/analyze\"\n",
    "\n",
    "    headers = {\n",
    "        \"X-NCP-APIGW-API-KEY-ID\": client_id,\n",
    "        \"X-NCP-APIGW-API-KEY\": client_secret,\n",
    "        \"Content-Type\": \"application/json\"\n",
    "    }\n",
    "\n",
    "    f = open('C:/Users/user/raw/naver_blog/blog_content.txt', 'r', encoding='utf8')\n",
    "    text = f.read()\n",
    "    text_2 = text.replace(\"\\n\", \"\")\n",
    "    text_3 = text_2.replace(\"________________\", \" \")\n",
    "\n",
    "    content = text_3[n:m] #800단어씩\n",
    "\n",
    "    data = {\n",
    "      \"content\": content\n",
    "    }\n",
    "    print(json.dumps(data, indent=4, sort_keys=True))\n",
    "    response = requests.post(url, data=json.dumps(data), headers=headers)\n",
    "    rescode = response.status_code\n",
    "    if(rescode == 200):\n",
    "        print (response.text)\n",
    "    else:\n",
    "        print(\"Error : \" + response.text)\n",
    "\n",
    "    f.close()    \n",
    "\n",
    "    text = response.json()\n",
    "\n",
    "    raw = text['sentences']\n",
    "\n",
    "\n",
    "    max_cnt = len(raw) #리스트 개수\n",
    "\n",
    "    for i in range(0, max_cnt) : \n",
    "        content = str(raw[i]['content']) #텍스트\n",
    "        offset = int(raw[i]['highlights'][0]['offset']) #오프셋\n",
    "        length = int(raw[i]['highlights'][0]['length']) #해당 길이\n",
    "        text = content[offset : offset + length] #부정 의미가 있는 문구 텍스트 추출\n",
    "        #print(text)\n",
    "        file.write(str(text) + '\\n')\n",
    "    \n",
    "    n += 800\n",
    "    m += 800\n",
    "\n",
    "file.close()"
   ]
  }
 ],
 "metadata": {
  "kernelspec": {
   "display_name": "Python 3 (ipykernel)",
   "language": "python",
   "name": "python3"
  },
  "language_info": {
   "codemirror_mode": {
    "name": "ipython",
    "version": 3
   },
   "file_extension": ".py",
   "mimetype": "text/x-python",
   "name": "python",
   "nbconvert_exporter": "python",
   "pygments_lexer": "ipython3",
   "version": "3.8.11"
  }
 },
 "nbformat": 4,
 "nbformat_minor": 5
}
