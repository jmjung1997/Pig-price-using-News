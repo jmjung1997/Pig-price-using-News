{
 "cells": [
  {
   "cell_type": "code",
   "execution_count": 1,
   "id": "7d4a5cd4",
   "metadata": {},
   "outputs": [],
   "source": [
    "import pandas as pd\n",
    "import numpy as np\n",
    "import matplotlib.pyplot as plt\n",
    "from torch.utils.data import Dataset,DataLoader\n",
    "import torch.nn as nn\n",
    "import torch\n",
    "import matplotlib.pyplot as plt\n",
    "plt.rcParams['font.family'] = 'Malgun Gothic'\n"
   ]
  },
  {
   "cell_type": "code",
   "execution_count": 2,
   "id": "f58e76b5",
   "metadata": {},
   "outputs": [
    {
     "name": "stderr",
     "output_type": "stream",
     "text": [
      "C:\\Users\\jaemin\\Anaconda3\\envs\\jm\\lib\\site-packages\\ipykernel_launcher.py:1: FutureWarning: Inferring datetime64[ns] from data containing strings is deprecated and will be removed in a future version. To retain the old behavior explicitly pass Series(data, dtype={value.dtype})\n",
      "  \"\"\"Entry point for launching an IPython kernel.\n"
     ]
    }
   ],
   "source": [
    "df_all=pd.read_excel('../data_v3/전국경락단가.xlsx')\n",
    "df_18_price=pd.read_excel('../../원본데이터/18년도 가격데이터.xlsx')\n",
    "df_19_price=pd.read_excel('../../원본데이터/19년도 가격데이터.xlsx')\n",
    "df_20_price=pd.read_excel('../../원본데이터/20년도 가격데이터1.xlsx')\n",
    "df_21_price=pd.read_excel('../../원본데이터/21년도 가격데이터.xlsx')"
   ]
  },
  {
   "cell_type": "code",
   "execution_count": 3,
   "id": "30b010bd",
   "metadata": {},
   "outputs": [],
   "source": [
    "#첫번째 행 삭제\n",
    "df_18_price.drop(0,axis=0,inplace=True)\n",
    "df_19_price.drop(0,axis=0,inplace=True)\n",
    "#df_20_price.drop(0,axis=0,inplace=True)\n",
    "df_21_price.drop(0,axis=0,inplace=True)"
   ]
  },
  {
   "cell_type": "code",
   "execution_count": 4,
   "id": "26be325c",
   "metadata": {},
   "outputs": [],
   "source": [
    "df_18_price['도축일']=pd.to_datetime(df_18_price['도축일'].astype(str))\n",
    "df_19_price['도축일']=pd.to_datetime(df_19_price['도축일'].astype(str))\n",
    "df_20_price['도축일']=pd.to_datetime(df_20_price['도축일'].astype(str))\n",
    "df_21_price['도축일']=pd.to_datetime(df_21_price['도축일'].astype(str))"
   ]
  },
  {
   "cell_type": "markdown",
   "id": "72bf0fac",
   "metadata": {},
   "source": [
    "### 크롤링한 도매가격"
   ]
  },
  {
   "cell_type": "code",
   "execution_count": 5,
   "id": "96a9ccde",
   "metadata": {},
   "outputs": [],
   "source": [
    "df_all['date']=pd.to_datetime(df_all['date'])\n",
    "df_all['price'] = df_all['price'].astype(int)"
   ]
  },
  {
   "cell_type": "code",
   "execution_count": 6,
   "id": "a77c39a4",
   "metadata": {},
   "outputs": [],
   "source": [
    "df_sorted = df_all.sort_values(by='date')"
   ]
  },
  {
   "cell_type": "code",
   "execution_count": 7,
   "id": "b17a9f45",
   "metadata": {},
   "outputs": [
    {
     "data": {
      "text/html": [
       "<div>\n",
       "<style scoped>\n",
       "    .dataframe tbody tr th:only-of-type {\n",
       "        vertical-align: middle;\n",
       "    }\n",
       "\n",
       "    .dataframe tbody tr th {\n",
       "        vertical-align: top;\n",
       "    }\n",
       "\n",
       "    .dataframe thead th {\n",
       "        text-align: right;\n",
       "    }\n",
       "</style>\n",
       "<table border=\"1\" class=\"dataframe\">\n",
       "  <thead>\n",
       "    <tr style=\"text-align: right;\">\n",
       "      <th></th>\n",
       "      <th>date</th>\n",
       "      <th>price</th>\n",
       "    </tr>\n",
       "  </thead>\n",
       "  <tbody>\n",
       "    <tr>\n",
       "      <th>999</th>\n",
       "      <td>2021-12-27</td>\n",
       "      <td>4825</td>\n",
       "    </tr>\n",
       "    <tr>\n",
       "      <th>1000</th>\n",
       "      <td>2021-12-28</td>\n",
       "      <td>4674</td>\n",
       "    </tr>\n",
       "    <tr>\n",
       "      <th>1001</th>\n",
       "      <td>2021-12-29</td>\n",
       "      <td>4904</td>\n",
       "    </tr>\n",
       "    <tr>\n",
       "      <th>1002</th>\n",
       "      <td>2021-12-30</td>\n",
       "      <td>5000</td>\n",
       "    </tr>\n",
       "    <tr>\n",
       "      <th>1003</th>\n",
       "      <td>2021-12-31</td>\n",
       "      <td>5062</td>\n",
       "    </tr>\n",
       "  </tbody>\n",
       "</table>\n",
       "</div>"
      ],
      "text/plain": [
       "           date  price\n",
       "999  2021-12-27   4825\n",
       "1000 2021-12-28   4674\n",
       "1001 2021-12-29   4904\n",
       "1002 2021-12-30   5000\n",
       "1003 2021-12-31   5062"
      ]
     },
     "execution_count": 7,
     "metadata": {},
     "output_type": "execute_result"
    }
   ],
   "source": [
    "df_sorted.tail()"
   ]
  },
  {
   "cell_type": "markdown",
   "id": "2318bedc",
   "metadata": {},
   "source": [
    "### 한 경매장에서의 도매가격"
   ]
  },
  {
   "cell_type": "code",
   "execution_count": 8,
   "id": "3acf14ee",
   "metadata": {},
   "outputs": [],
   "source": [
    "df_price=pd.concat([df_18_price,df_19_price,df_20_price,df_21_price])"
   ]
  },
  {
   "cell_type": "code",
   "execution_count": 9,
   "id": "0b7443b9",
   "metadata": {},
   "outputs": [],
   "source": [
    "df_price_all=df_price[['업체코드','업체명','도축일','도체번호','경락단가']]"
   ]
  },
  {
   "cell_type": "code",
   "execution_count": 10,
   "id": "716fa1eb",
   "metadata": {},
   "outputs": [
    {
     "data": {
      "text/plain": [
       "(224201, 2)"
      ]
     },
     "execution_count": 10,
     "metadata": {},
     "output_type": "execute_result"
    }
   ],
   "source": [
    "df_price_all_2column=df_price_all[['도축일',\"경락단가\"]]\n",
    "\n",
    "df_price_all_2column.shape"
   ]
  },
  {
   "cell_type": "code",
   "execution_count": 11,
   "id": "0eb64cd8",
   "metadata": {},
   "outputs": [
    {
     "data": {
      "text/html": [
       "<div>\n",
       "<style scoped>\n",
       "    .dataframe tbody tr th:only-of-type {\n",
       "        vertical-align: middle;\n",
       "    }\n",
       "\n",
       "    .dataframe tbody tr th {\n",
       "        vertical-align: top;\n",
       "    }\n",
       "\n",
       "    .dataframe thead th {\n",
       "        text-align: right;\n",
       "    }\n",
       "</style>\n",
       "<table border=\"1\" class=\"dataframe\">\n",
       "  <thead>\n",
       "    <tr style=\"text-align: right;\">\n",
       "      <th></th>\n",
       "      <th>도축일</th>\n",
       "      <th>경락단가</th>\n",
       "    </tr>\n",
       "  </thead>\n",
       "  <tbody>\n",
       "    <tr>\n",
       "      <th>1</th>\n",
       "      <td>2018-01-02</td>\n",
       "      <td>3622.0</td>\n",
       "    </tr>\n",
       "    <tr>\n",
       "      <th>2</th>\n",
       "      <td>2018-01-02</td>\n",
       "      <td>3755.0</td>\n",
       "    </tr>\n",
       "    <tr>\n",
       "      <th>3</th>\n",
       "      <td>2018-01-02</td>\n",
       "      <td>3700.0</td>\n",
       "    </tr>\n",
       "    <tr>\n",
       "      <th>4</th>\n",
       "      <td>2018-01-02</td>\n",
       "      <td>3733.0</td>\n",
       "    </tr>\n",
       "    <tr>\n",
       "      <th>5</th>\n",
       "      <td>2018-01-02</td>\n",
       "      <td>2199.0</td>\n",
       "    </tr>\n",
       "  </tbody>\n",
       "</table>\n",
       "</div>"
      ],
      "text/plain": [
       "         도축일    경락단가\n",
       "1 2018-01-02  3622.0\n",
       "2 2018-01-02  3755.0\n",
       "3 2018-01-02  3700.0\n",
       "4 2018-01-02  3733.0\n",
       "5 2018-01-02  2199.0"
      ]
     },
     "execution_count": 11,
     "metadata": {},
     "output_type": "execute_result"
    }
   ],
   "source": [
    "df_price_all_2column.head()"
   ]
  },
  {
   "cell_type": "code",
   "execution_count": 12,
   "id": "d7cda4d8",
   "metadata": {},
   "outputs": [
    {
     "name": "stderr",
     "output_type": "stream",
     "text": [
      "C:\\Users\\jaemin\\Anaconda3\\envs\\jm\\lib\\site-packages\\ipykernel_launcher.py:1: SettingWithCopyWarning: \n",
      "A value is trying to be set on a copy of a slice from a DataFrame.\n",
      "Try using .loc[row_indexer,col_indexer] = value instead\n",
      "\n",
      "See the caveats in the documentation: https://pandas.pydata.org/pandas-docs/stable/user_guide/indexing.html#returning-a-view-versus-a-copy\n",
      "  \"\"\"Entry point for launching an IPython kernel.\n"
     ]
    }
   ],
   "source": [
    "df_price_all_2column['경락단가_평균'] = df_price_all_2column.groupby(['도축일'])['경락단가'].transform('mean')\n",
    "\n",
    "df_price_all_2column.head()\n",
    "\n",
    "df_price_all_2column=df_price_all_2column.groupby(df_price_all_2column['도축일']).mean()\n",
    "\n",
    "df_price_all_2column.reset_index(inplace=True)"
   ]
  },
  {
   "cell_type": "code",
   "execution_count": 13,
   "id": "f5ff30ac",
   "metadata": {},
   "outputs": [
    {
     "data": {
      "text/html": [
       "<div>\n",
       "<style scoped>\n",
       "    .dataframe tbody tr th:only-of-type {\n",
       "        vertical-align: middle;\n",
       "    }\n",
       "\n",
       "    .dataframe tbody tr th {\n",
       "        vertical-align: top;\n",
       "    }\n",
       "\n",
       "    .dataframe thead th {\n",
       "        text-align: right;\n",
       "    }\n",
       "</style>\n",
       "<table border=\"1\" class=\"dataframe\">\n",
       "  <thead>\n",
       "    <tr style=\"text-align: right;\">\n",
       "      <th></th>\n",
       "      <th>도축일</th>\n",
       "      <th>경락단가</th>\n",
       "      <th>경락단가_평균</th>\n",
       "    </tr>\n",
       "  </thead>\n",
       "  <tbody>\n",
       "    <tr>\n",
       "      <th>858</th>\n",
       "      <td>2021-12-27</td>\n",
       "      <td>4547.071429</td>\n",
       "      <td>4547.071429</td>\n",
       "    </tr>\n",
       "    <tr>\n",
       "      <th>859</th>\n",
       "      <td>2021-12-28</td>\n",
       "      <td>4373.212544</td>\n",
       "      <td>4373.212544</td>\n",
       "    </tr>\n",
       "    <tr>\n",
       "      <th>860</th>\n",
       "      <td>2021-12-29</td>\n",
       "      <td>4278.649485</td>\n",
       "      <td>4278.649485</td>\n",
       "    </tr>\n",
       "    <tr>\n",
       "      <th>861</th>\n",
       "      <td>2021-12-30</td>\n",
       "      <td>4322.080986</td>\n",
       "      <td>4322.080986</td>\n",
       "    </tr>\n",
       "    <tr>\n",
       "      <th>862</th>\n",
       "      <td>2021-12-31</td>\n",
       "      <td>4138.037190</td>\n",
       "      <td>4138.037190</td>\n",
       "    </tr>\n",
       "  </tbody>\n",
       "</table>\n",
       "</div>"
      ],
      "text/plain": [
       "           도축일         경락단가      경락단가_평균\n",
       "858 2021-12-27  4547.071429  4547.071429\n",
       "859 2021-12-28  4373.212544  4373.212544\n",
       "860 2021-12-29  4278.649485  4278.649485\n",
       "861 2021-12-30  4322.080986  4322.080986\n",
       "862 2021-12-31  4138.037190  4138.037190"
      ]
     },
     "execution_count": 13,
     "metadata": {},
     "output_type": "execute_result"
    }
   ],
   "source": [
    "df_price_all_2column.tail()"
   ]
  },
  {
   "cell_type": "code",
   "execution_count": 14,
   "id": "5be3056f",
   "metadata": {},
   "outputs": [
    {
     "data": {
      "text/html": [
       "<div>\n",
       "<style scoped>\n",
       "    .dataframe tbody tr th:only-of-type {\n",
       "        vertical-align: middle;\n",
       "    }\n",
       "\n",
       "    .dataframe tbody tr th {\n",
       "        vertical-align: top;\n",
       "    }\n",
       "\n",
       "    .dataframe thead th {\n",
       "        text-align: right;\n",
       "    }\n",
       "</style>\n",
       "<table border=\"1\" class=\"dataframe\">\n",
       "  <thead>\n",
       "    <tr style=\"text-align: right;\">\n",
       "      <th></th>\n",
       "      <th>도축일</th>\n",
       "      <th>경락단가</th>\n",
       "      <th>경락단가_평균</th>\n",
       "    </tr>\n",
       "  </thead>\n",
       "  <tbody>\n",
       "    <tr>\n",
       "      <th>0</th>\n",
       "      <td>2018-01-02</td>\n",
       "      <td>3750.366093</td>\n",
       "      <td>3750.366093</td>\n",
       "    </tr>\n",
       "  </tbody>\n",
       "</table>\n",
       "</div>"
      ],
      "text/plain": [
       "         도축일         경락단가      경락단가_평균\n",
       "0 2018-01-02  3750.366093  3750.366093"
      ]
     },
     "execution_count": 14,
     "metadata": {},
     "output_type": "execute_result"
    }
   ],
   "source": [
    "df_price_all_2column[df_price_all_2column['도축일']=='2018-01-02']"
   ]
  },
  {
   "cell_type": "markdown",
   "id": "ccea897c",
   "metadata": {},
   "source": [
    "### 하나의 데이터셋 만들기"
   ]
  },
  {
   "cell_type": "code",
   "execution_count": 15,
   "id": "221bcfb9",
   "metadata": {},
   "outputs": [],
   "source": [
    "df_merged=pd.merge(df_sorted, df_price_all_2column, left_on = 'date', right_on = '도축일', how = 'left')"
   ]
  },
  {
   "cell_type": "code",
   "execution_count": 16,
   "id": "355c8de2",
   "metadata": {},
   "outputs": [],
   "source": [
    "df_merged.fillna(method= 'ffill',inplace=True)"
   ]
  },
  {
   "cell_type": "code",
   "execution_count": 17,
   "id": "db1982e2",
   "metadata": {},
   "outputs": [
    {
     "data": {
      "text/html": [
       "<div>\n",
       "<style scoped>\n",
       "    .dataframe tbody tr th:only-of-type {\n",
       "        vertical-align: middle;\n",
       "    }\n",
       "\n",
       "    .dataframe tbody tr th {\n",
       "        vertical-align: top;\n",
       "    }\n",
       "\n",
       "    .dataframe thead th {\n",
       "        text-align: right;\n",
       "    }\n",
       "</style>\n",
       "<table border=\"1\" class=\"dataframe\">\n",
       "  <thead>\n",
       "    <tr style=\"text-align: right;\">\n",
       "      <th></th>\n",
       "      <th>date</th>\n",
       "      <th>price</th>\n",
       "      <th>도축일</th>\n",
       "      <th>경락단가</th>\n",
       "      <th>경락단가_평균</th>\n",
       "    </tr>\n",
       "  </thead>\n",
       "  <tbody>\n",
       "    <tr>\n",
       "      <th>0</th>\n",
       "      <td>2018-01-02</td>\n",
       "      <td>4104</td>\n",
       "      <td>2018-01-02</td>\n",
       "      <td>3750.366093</td>\n",
       "      <td>3750.366093</td>\n",
       "    </tr>\n",
       "    <tr>\n",
       "      <th>1</th>\n",
       "      <td>2018-01-03</td>\n",
       "      <td>4049</td>\n",
       "      <td>2018-01-03</td>\n",
       "      <td>3547.574932</td>\n",
       "      <td>3547.574932</td>\n",
       "    </tr>\n",
       "    <tr>\n",
       "      <th>2</th>\n",
       "      <td>2018-01-04</td>\n",
       "      <td>3920</td>\n",
       "      <td>2018-01-04</td>\n",
       "      <td>3696.060897</td>\n",
       "      <td>3696.060897</td>\n",
       "    </tr>\n",
       "    <tr>\n",
       "      <th>3</th>\n",
       "      <td>2018-01-05</td>\n",
       "      <td>3917</td>\n",
       "      <td>2018-01-05</td>\n",
       "      <td>3770.156364</td>\n",
       "      <td>3770.156364</td>\n",
       "    </tr>\n",
       "    <tr>\n",
       "      <th>4</th>\n",
       "      <td>2018-01-08</td>\n",
       "      <td>4090</td>\n",
       "      <td>2018-01-08</td>\n",
       "      <td>3809.974684</td>\n",
       "      <td>3809.974684</td>\n",
       "    </tr>\n",
       "    <tr>\n",
       "      <th>...</th>\n",
       "      <td>...</td>\n",
       "      <td>...</td>\n",
       "      <td>...</td>\n",
       "      <td>...</td>\n",
       "      <td>...</td>\n",
       "    </tr>\n",
       "    <tr>\n",
       "      <th>999</th>\n",
       "      <td>2021-12-27</td>\n",
       "      <td>4825</td>\n",
       "      <td>2021-12-27</td>\n",
       "      <td>4547.071429</td>\n",
       "      <td>4547.071429</td>\n",
       "    </tr>\n",
       "    <tr>\n",
       "      <th>1000</th>\n",
       "      <td>2021-12-28</td>\n",
       "      <td>4674</td>\n",
       "      <td>2021-12-28</td>\n",
       "      <td>4373.212544</td>\n",
       "      <td>4373.212544</td>\n",
       "    </tr>\n",
       "    <tr>\n",
       "      <th>1001</th>\n",
       "      <td>2021-12-29</td>\n",
       "      <td>4904</td>\n",
       "      <td>2021-12-29</td>\n",
       "      <td>4278.649485</td>\n",
       "      <td>4278.649485</td>\n",
       "    </tr>\n",
       "    <tr>\n",
       "      <th>1002</th>\n",
       "      <td>2021-12-30</td>\n",
       "      <td>5000</td>\n",
       "      <td>2021-12-30</td>\n",
       "      <td>4322.080986</td>\n",
       "      <td>4322.080986</td>\n",
       "    </tr>\n",
       "    <tr>\n",
       "      <th>1003</th>\n",
       "      <td>2021-12-31</td>\n",
       "      <td>5062</td>\n",
       "      <td>2021-12-31</td>\n",
       "      <td>4138.037190</td>\n",
       "      <td>4138.037190</td>\n",
       "    </tr>\n",
       "  </tbody>\n",
       "</table>\n",
       "<p>1004 rows × 5 columns</p>\n",
       "</div>"
      ],
      "text/plain": [
       "           date  price        도축일         경락단가      경락단가_평균\n",
       "0    2018-01-02   4104 2018-01-02  3750.366093  3750.366093\n",
       "1    2018-01-03   4049 2018-01-03  3547.574932  3547.574932\n",
       "2    2018-01-04   3920 2018-01-04  3696.060897  3696.060897\n",
       "3    2018-01-05   3917 2018-01-05  3770.156364  3770.156364\n",
       "4    2018-01-08   4090 2018-01-08  3809.974684  3809.974684\n",
       "...         ...    ...        ...          ...          ...\n",
       "999  2021-12-27   4825 2021-12-27  4547.071429  4547.071429\n",
       "1000 2021-12-28   4674 2021-12-28  4373.212544  4373.212544\n",
       "1001 2021-12-29   4904 2021-12-29  4278.649485  4278.649485\n",
       "1002 2021-12-30   5000 2021-12-30  4322.080986  4322.080986\n",
       "1003 2021-12-31   5062 2021-12-31  4138.037190  4138.037190\n",
       "\n",
       "[1004 rows x 5 columns]"
      ]
     },
     "execution_count": 17,
     "metadata": {},
     "output_type": "execute_result"
    }
   ],
   "source": [
    "df_merged"
   ]
  },
  {
   "cell_type": "markdown",
   "id": "74e2a534",
   "metadata": {},
   "source": [
    "### 도매가격 그래프"
   ]
  },
  {
   "cell_type": "code",
   "execution_count": 18,
   "id": "ea82d3ed",
   "metadata": {},
   "outputs": [
    {
     "data": {
      "image/png": "[encoded data removed]",
      "text/plain": [
       "<Figure size 640x480 with 1 Axes>"
      ]
     },
     "metadata": {},
     "output_type": "display_data"
    }
   ],
   "source": [
    "import matplotlib.pyplot as plt\n",
    "\n",
    "# 데이터\n",
    "x = df_merged['date']\n",
    "y = df_merged['price']\n",
    "y2=df_merged['경락단가_평균']\n",
    "\n",
    "# 그래프 그리기\n",
    "plt.plot(x, y,label='도매가격')\n",
    "plt.plot(x, y2,label='경락단가')\n",
    "# 그래프 타이틀 및 축 레이블 설정\n",
    "plt.title('도매가격 VS 경락단가')\n",
    "plt.xlabel('date')\n",
    "plt.ylabel('price')\n",
    "\n",
    "# 범례 추가\n",
    "plt.legend()\n",
    "# 그래프 표시\n",
    "plt.show()\n"
   ]
  },
  {
   "cell_type": "code",
   "execution_count": 19,
   "id": "9ddfd4d9",
   "metadata": {},
   "outputs": [],
   "source": [
    "pred_inverse=df_merged['경락단가_평균']\n",
    "testY_inverse=df_merged['price']"
   ]
  },
  {
   "cell_type": "code",
   "execution_count": 22,
   "id": "3002f4af",
   "metadata": {},
   "outputs": [
    {
     "name": "stdout",
     "output_type": "stream",
     "text": [
      "MAE SCORE :  313.567002745093\n",
      "MAE 313.567002745093\n",
      "MSE 150469.93865776763\n",
      "RMSE 387.9045483849959\n",
      "MAPE 6.8051568805817535\n"
     ]
    }
   ],
   "source": [
    "def MAE(true, pred):\n",
    "    return np.mean(np.abs(true-pred))\n",
    "\n",
    "print('MAE SCORE : ', MAE(pred_inverse, testY_inverse))\n",
    "\n",
    "#MAE\n",
    "from sklearn.metrics import mean_absolute_error\n",
    "\n",
    "print(\"MAE\",mean_absolute_error(testY_inverse,pred_inverse))\n",
    "\n",
    "#MSE\n",
    "from sklearn.metrics import mean_squared_error\n",
    "\n",
    "print(\"MSE\",mean_squared_error(testY_inverse,pred_inverse))\n",
    "\n",
    "#RMSE\n",
    "import numpy as np\n",
    "from sklearn.metrics import mean_squared_error\n",
    "\n",
    "MSE = mean_squared_error(testY_inverse,pred_inverse)\n",
    "print(\"RMSE\",np.sqrt(MSE))\n",
    "# sklearn 은 mse만 제공하기 때문에 rmse는 직접 만들어 써야한다.\n",
    "\n",
    "#MAPE\n",
    "import numpy as np\n",
    "\n",
    "def MAPE(y_test, y_pred):\n",
    "\treturn np.mean(np.abs((y_test - y_pred) / y_test)) * 100\n",
    "    \n",
    "print(\"MAPE\",MAPE(testY_inverse, pred_inverse))"
   ]
  },
  {
   "cell_type": "code",
   "execution_count": 21,
   "id": "64e16434",
   "metadata": {},
   "outputs": [
    {
     "ename": "NameError",
     "evalue": "name 'new_df_price_all_2column' is not defined",
     "output_type": "error",
     "traceback": [
      "\u001b[1;31m---------------------------------------------------------------------------\u001b[0m",
      "\u001b[1;31mNameError\u001b[0m                                 Traceback (most recent call last)",
      "\u001b[1;32m~\\AppData\\Local\\Temp\\ipykernel_12516\\784394147.py\u001b[0m in \u001b[0;36m<module>\u001b[1;34m\u001b[0m\n\u001b[1;32m----> 1\u001b[1;33m \u001b[0mnew_df_price_all_2column\u001b[0m\u001b[1;33m[\u001b[0m\u001b[1;34m'경락단가_평균'\u001b[0m\u001b[1;33m]\u001b[0m\u001b[1;33m\u001b[0m\u001b[1;33m\u001b[0m\u001b[0m\n\u001b[0m",
      "\u001b[1;31mNameError\u001b[0m: name 'new_df_price_all_2column' is not defined"
     ]
    }
   ],
   "source": [
    "new_df_price_all_2column['경락단가_평균']"
   ]
  },
  {
   "cell_type": "code",
   "execution_count": null,
   "id": "94ccd34e",
   "metadata": {},
   "outputs": [],
   "source": [
    "\n",
    "\n",
    "\n",
    "\n",
    "\n",
    "\n"
   ]
  },
  {
   "cell_type": "code",
   "execution_count": null,
   "id": "6e8c5b89",
   "metadata": {},
   "outputs": [],
   "source": []
  },
  {
   "cell_type": "code",
   "execution_count": null,
   "id": "f0299c54",
   "metadata": {},
   "outputs": [],
   "source": []
  }
 ],
 "metadata": {
  "kernelspec": {
   "display_name": "Python 3 (ipykernel)",
   "language": "python",
   "name": "python3"
  },
  "language_info": {
   "codemirror_mode": {
    "name": "ipython",
    "version": 3
   },
   "file_extension": ".py",
   "mimetype": "text/x-python",
   "name": "python",
   "nbconvert_exporter": "python",
   "pygments_lexer": "ipython3",
   "version": "3.7.16"
  }
 },
 "nbformat": 4,
 "nbformat_minor": 5
}
