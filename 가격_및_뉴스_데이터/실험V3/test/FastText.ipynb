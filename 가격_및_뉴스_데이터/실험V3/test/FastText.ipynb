{
 "cells": [
  {
   "cell_type": "code",
   "execution_count": 13,
   "id": "150f52be",
   "metadata": {},
   "outputs": [
    {
     "name": "stdout",
     "output_type": "stream",
     "text": [
      "Collecting nltk\n",
      "  Using cached nltk-3.8.1-py3-none-any.whl (1.5 MB)\n",
      "Collecting regex>=2021.8.3\n",
      "  Downloading regex-2023.6.3-cp37-cp37m-win_amd64.whl (268 kB)\n",
      "     -------------------------------------- 268.4/268.4 kB 5.5 MB/s eta 0:00:00\n",
      "Requirement already satisfied: joblib in c:\\users\\jaemin\\anaconda3\\envs\\jm\\lib\\site-packages (from nltk) (1.3.1)\n",
      "Requirement already satisfied: click in c:\\users\\jaemin\\anaconda3\\envs\\jm\\lib\\site-packages (from nltk) (8.0.3)\n",
      "Requirement already satisfied: tqdm in c:\\users\\jaemin\\anaconda3\\envs\\jm\\lib\\site-packages (from nltk) (4.65.0)\n",
      "Requirement already satisfied: colorama in c:\\users\\jaemin\\anaconda3\\envs\\jm\\lib\\site-packages (from click->nltk) (0.4.6)\n",
      "Requirement already satisfied: importlib-metadata in c:\\users\\jaemin\\anaconda3\\envs\\jm\\lib\\site-packages (from click->nltk) (6.7.0)\n",
      "Requirement already satisfied: typing-extensions>=3.6.4 in c:\\users\\jaemin\\anaconda3\\envs\\jm\\lib\\site-packages (from importlib-metadata->click->nltk) (4.7.1)\n",
      "Requirement already satisfied: zipp>=0.5 in c:\\users\\jaemin\\anaconda3\\envs\\jm\\lib\\site-packages (from importlib-metadata->click->nltk) (3.15.0)\n",
      "Installing collected packages: regex, nltk\n",
      "Successfully installed nltk-3.8.1 regex-2023.6.3\n"
     ]
    }
   ],
   "source": [
    "!pip install nltk"
   ]
  },
  {
   "cell_type": "code",
   "execution_count": 31,
   "id": "be741f95",
   "metadata": {},
   "outputs": [],
   "source": [
    "import re\n",
    "import urllib.request\n",
    "import zipfile\n",
    "from lxml import etree\n",
    "from nltk.tokenize import word_tokenize, sent_tokenize"
   ]
  },
  {
   "cell_type": "code",
   "execution_count": 32,
   "id": "db169450",
   "metadata": {},
   "outputs": [
    {
     "data": {
      "text/plain": [
       "('ted_en-20160408.xml', <http.client.HTTPMessage at 0x16871306b88>)"
      ]
     },
     "execution_count": 32,
     "metadata": {},
     "output_type": "execute_result"
    }
   ],
   "source": [
    "urllib.request.urlretrieve(\"https://raw.githubusercontent.com/ukairia777/tensorflow-nlp-tutorial/main/09.%20Word%20Embedding/dataset/ted_en-20160408.xml\", filename=\"ted_en-20160408.xml\")"
   ]
  },
  {
   "cell_type": "code",
   "execution_count": 33,
   "id": "7fe65ecb",
   "metadata": {},
   "outputs": [],
   "source": [
    "targetXML = open('ted_en-20160408.xml', 'r', encoding='UTF8')\n",
    "target_text = etree.parse(targetXML)\n",
    "\n",
    "# xml 파일로부터 <content>와 </content> 사이의 내용만 가져온다.\n",
    "parse_text = '\\n'.join(target_text.xpath('//content/text()'))\n",
    "\n",
    "# 정규 표현식의 sub 모듈을 통해 content 중간에 등장하는 (Audio), (Laughter) 등의 배경음 부분을 제거.\n",
    "# 해당 코드는 괄호로 구성된 내용을 제거.\n",
    "content_text = re.sub(r'\\([^)]*\\)', '', parse_text)\n",
    "\n",
    "# 입력 코퍼스에 대해서 NLTK를 이용하여 문장 토큰화를 수행.\n",
    "sent_text = sent_tokenize(content_text)\n",
    "\n",
    "# 각 문장에 대해서 구두점을 제거하고, 대문자를 소문자로 변환.\n",
    "normalized_text = []\n",
    "for string in sent_text:\n",
    "     tokens = re.sub(r\"[^a-z0-9]+\", \" \", string.lower())\n",
    "     normalized_text.append(tokens)\n",
    "\n",
    "# 각 문장에 대해서 NLTK를 이용하여 단어 토큰화를 수행.\n",
    "result = [word_tokenize(sentence) for sentence in normalized_text]"
   ]
  },
  {
   "cell_type": "code",
   "execution_count": 38,
   "id": "33e78852",
   "metadata": {},
   "outputs": [
    {
     "data": {
      "text/plain": [
       "['here',\n",
       " 'are',\n",
       " 'two',\n",
       " 'reasons',\n",
       " 'companies',\n",
       " 'fail',\n",
       " 'they',\n",
       " 'only',\n",
       " 'do',\n",
       " 'more',\n",
       " 'of',\n",
       " 'the',\n",
       " 'same',\n",
       " 'or',\n",
       " 'they',\n",
       " 'only',\n",
       " 'do',\n",
       " 'what',\n",
       " 's',\n",
       " 'new']"
      ]
     },
     "execution_count": 38,
     "metadata": {},
     "output_type": "execute_result"
    }
   ],
   "source": [
    "result[0]"
   ]
  },
  {
   "cell_type": "code",
   "execution_count": 17,
   "id": "01d524c2",
   "metadata": {},
   "outputs": [
    {
     "name": "stdout",
     "output_type": "stream",
     "text": [
      "총 샘플의 개수 : 273424\n"
     ]
    }
   ],
   "source": [
    "print('총 샘플의 개수 : {}'.format(len(result)))"
   ]
  },
  {
   "cell_type": "code",
   "execution_count": 22,
   "id": "94b28aed",
   "metadata": {},
   "outputs": [],
   "source": [
    "from gensim.models import FastText\n",
    "model = FastText(result, vector_size=100, window=5, min_count=5, workers=4, sg=1)"
   ]
  },
  {
   "cell_type": "code",
   "execution_count": 43,
   "id": "e6b19f57",
   "metadata": {},
   "outputs": [
    {
     "data": {
      "text/plain": [
       "[('korean', 0.9008005857467651),\n",
       " ('koreans', 0.8708211779594421),\n",
       " ('northern', 0.8523803353309631),\n",
       " ('australia', 0.8442726731300354),\n",
       " ('northeastern', 0.8436970710754395),\n",
       " ('swaziland', 0.8431476950645447),\n",
       " ('kazakhstan', 0.8424943685531616),\n",
       " ('zambia', 0.8348095417022705),\n",
       " ('south', 0.8342492580413818),\n",
       " ('southwestern', 0.8283586502075195)]"
      ]
     },
     "execution_count": 43,
     "metadata": {},
     "output_type": "execute_result"
    }
   ],
   "source": [
    "model.wv.most_similar(\"korea\")"
   ]
  },
  {
   "cell_type": "code",
   "execution_count": 45,
   "id": "ce2ecb79",
   "metadata": {},
   "outputs": [],
   "source": [
    "from gensim.models import Word2Vec\n",
    "from gensim.models import KeyedVectors\n",
    "model_W = Word2Vec(sentences=result, vector_size=100, window=5, min_count=5, workers=4, sg=0)"
   ]
  },
  {
   "cell_type": "code",
   "execution_count": 50,
   "id": "ea3a8030",
   "metadata": {},
   "outputs": [
    {
     "data": {
      "text/plain": [
       "[('duck', 0.7610861659049988),\n",
       " ('curtain', 0.7539251446723938),\n",
       " ('cloth', 0.7507515549659729),\n",
       " ('pot', 0.7504440546035767),\n",
       " ('wood', 0.750170886516571),\n",
       " ('beer', 0.7474454641342163),\n",
       " ('pen', 0.7438390851020813),\n",
       " ('bag', 0.7425898313522339),\n",
       " ('band', 0.735055148601532),\n",
       " ('bullet', 0.73311847448349)]"
      ]
     },
     "execution_count": 50,
     "metadata": {},
     "output_type": "execute_result"
    }
   ],
   "source": [
    "model_W.wv.most_similar(\"toilet\")"
   ]
  },
  {
   "cell_type": "code",
   "execution_count": null,
   "id": "6a19bec3",
   "metadata": {},
   "outputs": [],
   "source": []
  }
 ],
 "metadata": {
  "kernelspec": {
   "display_name": "Python 3 (ipykernel)",
   "language": "python",
   "name": "python3"
  },
  "language_info": {
   "codemirror_mode": {
    "name": "ipython",
    "version": 3
   },
   "file_extension": ".py",
   "mimetype": "text/x-python",
   "name": "python",
   "nbconvert_exporter": "python",
   "pygments_lexer": "ipython3",
   "version": "3.7.16"
  }
 },
 "nbformat": 4,
 "nbformat_minor": 5
}
