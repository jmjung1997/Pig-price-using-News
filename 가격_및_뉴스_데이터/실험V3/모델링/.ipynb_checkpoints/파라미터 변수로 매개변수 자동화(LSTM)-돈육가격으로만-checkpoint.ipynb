{
 "cells": [
  {
   "cell_type": "code",
   "execution_count": 70,
   "id": "fd8fd404",
   "metadata": {},
   "outputs": [],
   "source": [
    "import pandas as pd\n",
    "import numpy as np\n",
    "import matplotlib.pyplot as plt\n",
    "from torch.utils.data import Dataset,DataLoader\n",
    "import torch.nn as nn\n",
    "import torch\n",
    "from tqdm.auto import tqdm\n",
    "\n",
    "device = torch.device(\"cuda:0\" if torch.cuda.is_available() else \"cpu\")"
   ]
  },
  {
   "cell_type": "code",
   "execution_count": 71,
   "id": "981849dd",
   "metadata": {},
   "outputs": [],
   "source": [
    "import pandas as pd\n",
    "import random\n",
    "import matplotlib.pyplot as plt\n",
    "from sklearn.preprocessing import MinMaxScaler\n",
    "from torch import optim\n",
    "plt.rcParams['font.family'] = 'Malgun Gothic'\n",
    "# 데이터 불러오기\n",
    "df_all=pd.read_csv('../data_v3/감성점수와 일별뉴스 합친거.csv',encoding='utf-8')\n",
    "df = df_all.iloc[:,[1,2,5]]"
   ]
  },
  {
   "cell_type": "code",
   "execution_count": 72,
   "id": "30b1fed1",
   "metadata": {},
   "outputs": [
    {
     "name": "stderr",
     "output_type": "stream",
     "text": [
      "C:\\Users\\jaemin\\Anaconda3\\envs\\jm\\lib\\site-packages\\ipykernel_launcher.py:5: FutureWarning: Inferring datetime64[ns] from data containing strings is deprecated and will be removed in a future version. To retain the old behavior explicitly pass Series(data, dtype={value.dtype})\n",
      "  \"\"\"\n"
     ]
    }
   ],
   "source": [
    "# 데이터 불러오기\n",
    "df_all=pd.read_csv('../data_v3/감성점수와 일별뉴스 합친거.csv',encoding='utf-8')\n",
    "df = df_all.iloc[:,[1,2,5]]\n",
    "\n",
    "df_all=pd.read_excel('../data_v3/전국경락단가.xlsx')"
   ]
  },
  {
   "cell_type": "code",
   "execution_count": 73,
   "id": "dcd2947c",
   "metadata": {},
   "outputs": [
    {
     "data": {
      "text/html": [
       "<div>\n",
       "<style scoped>\n",
       "    .dataframe tbody tr th:only-of-type {\n",
       "        vertical-align: middle;\n",
       "    }\n",
       "\n",
       "    .dataframe tbody tr th {\n",
       "        vertical-align: top;\n",
       "    }\n",
       "\n",
       "    .dataframe thead th {\n",
       "        text-align: right;\n",
       "    }\n",
       "</style>\n",
       "<table border=\"1\" class=\"dataframe\">\n",
       "  <thead>\n",
       "    <tr style=\"text-align: right;\">\n",
       "      <th></th>\n",
       "      <th>경락단가</th>\n",
       "      <th>도매가격</th>\n",
       "      <th>day_sentiment</th>\n",
       "    </tr>\n",
       "  </thead>\n",
       "  <tbody>\n",
       "    <tr>\n",
       "      <th>0</th>\n",
       "      <td>3750.366093</td>\n",
       "      <td>4104</td>\n",
       "      <td>0.000000</td>\n",
       "    </tr>\n",
       "    <tr>\n",
       "      <th>1</th>\n",
       "      <td>3547.574932</td>\n",
       "      <td>4049</td>\n",
       "      <td>0.000000</td>\n",
       "    </tr>\n",
       "    <tr>\n",
       "      <th>2</th>\n",
       "      <td>3696.060897</td>\n",
       "      <td>3920</td>\n",
       "      <td>-0.104167</td>\n",
       "    </tr>\n",
       "    <tr>\n",
       "      <th>3</th>\n",
       "      <td>3770.156364</td>\n",
       "      <td>3917</td>\n",
       "      <td>-0.104167</td>\n",
       "    </tr>\n",
       "    <tr>\n",
       "      <th>4</th>\n",
       "      <td>3809.974684</td>\n",
       "      <td>4090</td>\n",
       "      <td>-0.104167</td>\n",
       "    </tr>\n",
       "    <tr>\n",
       "      <th>...</th>\n",
       "      <td>...</td>\n",
       "      <td>...</td>\n",
       "      <td>...</td>\n",
       "    </tr>\n",
       "    <tr>\n",
       "      <th>620</th>\n",
       "      <td>4547.071429</td>\n",
       "      <td>4718</td>\n",
       "      <td>0.175000</td>\n",
       "    </tr>\n",
       "    <tr>\n",
       "      <th>621</th>\n",
       "      <td>4373.212544</td>\n",
       "      <td>4749</td>\n",
       "      <td>-0.116270</td>\n",
       "    </tr>\n",
       "    <tr>\n",
       "      <th>622</th>\n",
       "      <td>4278.649485</td>\n",
       "      <td>4820</td>\n",
       "      <td>-0.116270</td>\n",
       "    </tr>\n",
       "    <tr>\n",
       "      <th>623</th>\n",
       "      <td>4322.080986</td>\n",
       "      <td>4919</td>\n",
       "      <td>-0.116270</td>\n",
       "    </tr>\n",
       "    <tr>\n",
       "      <th>624</th>\n",
       "      <td>4138.037190</td>\n",
       "      <td>4988</td>\n",
       "      <td>-0.116270</td>\n",
       "    </tr>\n",
       "  </tbody>\n",
       "</table>\n",
       "<p>625 rows × 3 columns</p>\n",
       "</div>"
      ],
      "text/plain": [
       "            경락단가  도매가격  day_sentiment\n",
       "0    3750.366093  4104       0.000000\n",
       "1    3547.574932  4049       0.000000\n",
       "2    3696.060897  3920      -0.104167\n",
       "3    3770.156364  3917      -0.104167\n",
       "4    3809.974684  4090      -0.104167\n",
       "..           ...   ...            ...\n",
       "620  4547.071429  4718       0.175000\n",
       "621  4373.212544  4749      -0.116270\n",
       "622  4278.649485  4820      -0.116270\n",
       "623  4322.080986  4919      -0.116270\n",
       "624  4138.037190  4988      -0.116270\n",
       "\n",
       "[625 rows x 3 columns]"
      ]
     },
     "execution_count": 73,
     "metadata": {},
     "output_type": "execute_result"
    }
   ],
   "source": [
    "df['경락단가_평균']=df_all['price']\n",
    "\n",
    "df_all\n",
    "\n",
    "df.columns=['경락단가', '도매가격', 'day_sentiment']\n",
    "\n",
    "df"
   ]
  },
  {
   "cell_type": "code",
   "execution_count": 74,
   "id": "24aa6320",
   "metadata": {},
   "outputs": [],
   "source": [
    "#df=df[['day_sentiment','경락단가_평균']]\n",
    "df=df[['경락단가','day_sentiment','도매가격']]\n",
    "# 5일간의 데이터가 입력으로 들어가고 batch size는 임의로 지정\n",
    "CFG={'TRAIN_WINDOW_SIZE':10,\n",
    "   'PREDICT_SIZE':4 ,\n",
    "    'how_inputdim':2,\n",
    "    'data_dim':1,\n",
    "    'hidden_dim':10,\n",
    "    'LEARNING_RATE':0.001,\n",
    "    'nb_epochs':10,\n",
    "    'BATCH_SIZE':25}\n",
    "\n"
   ]
  },
  {
   "cell_type": "code",
   "execution_count": 75,
   "id": "73575a29",
   "metadata": {},
   "outputs": [],
   "source": [
    "# 데이터를 역순으로 정렬하여 전체 데이터의 70% 학습, 30% 테스트에 사용\n",
    "train_size = int(len(df)*0.7)\n",
    "train_set = df[0:train_size]  \n",
    "test_set = df[train_size-CFG['TRAIN_WINDOW_SIZE']:]"
   ]
  },
  {
   "cell_type": "code",
   "execution_count": 76,
   "id": "57966b75",
   "metadata": {},
   "outputs": [
    {
     "data": {
      "text/html": [
       "<div>\n",
       "<style scoped>\n",
       "    .dataframe tbody tr th:only-of-type {\n",
       "        vertical-align: middle;\n",
       "    }\n",
       "\n",
       "    .dataframe tbody tr th {\n",
       "        vertical-align: top;\n",
       "    }\n",
       "\n",
       "    .dataframe thead th {\n",
       "        text-align: right;\n",
       "    }\n",
       "</style>\n",
       "<table border=\"1\" class=\"dataframe\">\n",
       "  <thead>\n",
       "    <tr style=\"text-align: right;\">\n",
       "      <th></th>\n",
       "      <th>경락단가</th>\n",
       "      <th>day_sentiment</th>\n",
       "      <th>도매가격</th>\n",
       "    </tr>\n",
       "  </thead>\n",
       "  <tbody>\n",
       "    <tr>\n",
       "      <th>427</th>\n",
       "      <td>2935.529412</td>\n",
       "      <td>-0.388889</td>\n",
       "      <td>5029</td>\n",
       "    </tr>\n",
       "    <tr>\n",
       "      <th>428</th>\n",
       "      <td>3968.971831</td>\n",
       "      <td>-0.333333</td>\n",
       "      <td>5374</td>\n",
       "    </tr>\n",
       "    <tr>\n",
       "      <th>429</th>\n",
       "      <td>3882.641577</td>\n",
       "      <td>-0.250000</td>\n",
       "      <td>5097</td>\n",
       "    </tr>\n",
       "    <tr>\n",
       "      <th>430</th>\n",
       "      <td>3783.201389</td>\n",
       "      <td>-0.391667</td>\n",
       "      <td>4289</td>\n",
       "    </tr>\n",
       "    <tr>\n",
       "      <th>431</th>\n",
       "      <td>3551.798387</td>\n",
       "      <td>-0.224702</td>\n",
       "      <td>4725</td>\n",
       "    </tr>\n",
       "    <tr>\n",
       "      <th>...</th>\n",
       "      <td>...</td>\n",
       "      <td>...</td>\n",
       "      <td>...</td>\n",
       "    </tr>\n",
       "    <tr>\n",
       "      <th>620</th>\n",
       "      <td>4547.071429</td>\n",
       "      <td>0.175000</td>\n",
       "      <td>4718</td>\n",
       "    </tr>\n",
       "    <tr>\n",
       "      <th>621</th>\n",
       "      <td>4373.212544</td>\n",
       "      <td>-0.116270</td>\n",
       "      <td>4749</td>\n",
       "    </tr>\n",
       "    <tr>\n",
       "      <th>622</th>\n",
       "      <td>4278.649485</td>\n",
       "      <td>-0.116270</td>\n",
       "      <td>4820</td>\n",
       "    </tr>\n",
       "    <tr>\n",
       "      <th>623</th>\n",
       "      <td>4322.080986</td>\n",
       "      <td>-0.116270</td>\n",
       "      <td>4919</td>\n",
       "    </tr>\n",
       "    <tr>\n",
       "      <th>624</th>\n",
       "      <td>4138.037190</td>\n",
       "      <td>-0.116270</td>\n",
       "      <td>4988</td>\n",
       "    </tr>\n",
       "  </tbody>\n",
       "</table>\n",
       "<p>198 rows × 3 columns</p>\n",
       "</div>"
      ],
      "text/plain": [
       "            경락단가  day_sentiment  도매가격\n",
       "427  2935.529412      -0.388889  5029\n",
       "428  3968.971831      -0.333333  5374\n",
       "429  3882.641577      -0.250000  5097\n",
       "430  3783.201389      -0.391667  4289\n",
       "431  3551.798387      -0.224702  4725\n",
       "..           ...            ...   ...\n",
       "620  4547.071429       0.175000  4718\n",
       "621  4373.212544      -0.116270  4749\n",
       "622  4278.649485      -0.116270  4820\n",
       "623  4322.080986      -0.116270  4919\n",
       "624  4138.037190      -0.116270  4988\n",
       "\n",
       "[198 rows x 3 columns]"
      ]
     },
     "execution_count": 76,
     "metadata": {},
     "output_type": "execute_result"
    }
   ],
   "source": [
    "test_set"
   ]
  },
  {
   "cell_type": "code",
   "execution_count": 77,
   "id": "ef76ff07",
   "metadata": {},
   "outputs": [],
   "source": [
    "# Input scale\n",
    "train_scaler= MinMaxScaler()\n",
    "train_scaler.fit(train_set)\n",
    "test_scaler= MinMaxScaler()\n",
    "test_scaler.fit(test_set)\n",
    "\n",
    "train_set = scaler.transform(train_set)\n",
    "test_set = scaler.transform(test_set)"
   ]
  },
  {
   "cell_type": "code",
   "execution_count": 78,
   "id": "56af7c51",
   "metadata": {},
   "outputs": [],
   "source": [
    "from torch.utils.data import TensorDataset # 텐서데이터셋\n",
    "from torch.utils.data import DataLoader # 데이터로더\n",
    "\n",
    "\n",
    "# 데이터셋 생성 함수\n",
    "def build_dataset(time_series,train_size=CFG['TRAIN_WINDOW_SIZE'], predict_size=CFG['PREDICT_SIZE']):\n",
    "    dataX = []\n",
    "    dataY = []\n",
    "    window_size = train_size + predict_size\n",
    "    for i in range(len(time_series) - window_size + 1):\n",
    "        _x = time_series[i:i+train_size, :-1]\n",
    "        _y = time_series[i+train_size:i+train_size+predict_size, [-1]]\n",
    "        # print(_x, \"-->\",_y)\n",
    "        dataX.append(_x)\n",
    "        dataY.append(_y)\n",
    "\n",
    "    return np.array(dataX), np.array(dataY)\n",
    "\n",
    "trainX, trainY = build_dataset(np.array(train_set))\n",
    "testX, testY = build_dataset(np.array(test_set))"
   ]
  },
  {
   "cell_type": "code",
   "execution_count": 79,
   "id": "3dbf5975",
   "metadata": {},
   "outputs": [],
   "source": [
    "class CustomDataset(Dataset):\n",
    "    def __init__(self, X, Y):\n",
    "        self.X = X\n",
    "        self.Y = Y\n",
    "        \n",
    "    def __getitem__(self, index):\n",
    "        if self.Y is not None:\n",
    "            return torch.Tensor(self.X[index]), torch.Tensor(self.Y[index])\n",
    "        return torch.Tensor(self.X[index])\n",
    "    \n",
    "    def __len__(self):\n",
    "        return len(self.X)"
   ]
  },
  {
   "cell_type": "code",
   "execution_count": 80,
   "id": "89c16fb7",
   "metadata": {},
   "outputs": [],
   "source": [
    "train_dataset = CustomDataset(trainX, trainY)\n",
    "train_loader = DataLoader(train_dataset, batch_size = CFG['BATCH_SIZE'], shuffle=False, num_workers=0)\n",
    "\n",
    "val_dataset = CustomDataset(testX, testY)\n",
    "val_loader = DataLoader(val_dataset, batch_size = CFG['BATCH_SIZE'], shuffle=False, num_workers=0)\n",
    "\n",
    "# test_dataset = CustomDataset(test_input, None)\n",
    "# test_loader = DataLoader(test_dataset, batch_size = CFG['BATCH_SIZE'], shuffle=False, num_workers=0)"
   ]
  },
  {
   "cell_type": "markdown",
   "id": "d0121031",
   "metadata": {},
   "source": [
    "## 모델선언"
   ]
  },
  {
   "cell_type": "code",
   "execution_count": 85,
   "id": "ebd5a693",
   "metadata": {},
   "outputs": [],
   "source": [
    "class BaseModel(nn.Module):\n",
    "    def __init__(self, input_size=CFG['how_inputdim'], hidden_size=CFG['hidden_dim'], output_size=CFG['PREDICT_SIZE']):\n",
    "        super(BaseModel, self).__init__()\n",
    "        self.hidden_size = hidden_size\n",
    "        self.lstm = nn.LSTM(input_size, hidden_size, batch_first=True)\n",
    "        self.fc = nn.Sequential(\n",
    "            nn.Linear(hidden_size, hidden_size),\n",
    "            nn.ReLU(),\n",
    "            nn.Dropout(),\n",
    "            nn.Linear(hidden_size, output_size)\n",
    "        )\n",
    "            \n",
    "        self.actv = nn.ReLU()\n",
    "    \n",
    "    def forward(self, x):\n",
    "        # x shape: (B, TRAIN_WINDOW_SIZE, 5)\n",
    "        batch_size = x.size(0)\n",
    "        hidden = self.init_hidden(batch_size, x.device)\n",
    "        \n",
    "        # LSTM layer\n",
    "        lstm_out, hidden = self.lstm(x, hidden)\n",
    "        \n",
    "        # Only use the last output sequence\n",
    "        last_output = lstm_out[:, -1, :]\n",
    "        # Fully connected layer\n",
    "        output = self.actv(self.fc(last_output))\n",
    "        return output.squeeze(1)\n",
    "    \n",
    "    def init_hidden(self, batch_size, device):\n",
    "        # Initialize hidden state and cell state\n",
    "        return (torch.zeros(1, batch_size, self.hidden_size, device=device),\n",
    "                torch.zeros(1, batch_size, self.hidden_size, device=device))"
   ]
  },
  {
   "cell_type": "markdown",
   "id": "ba309ef0",
   "metadata": {},
   "source": [
    "## 모델학습"
   ]
  },
  {
   "cell_type": "code",
   "execution_count": 102,
   "id": "ce4c9c61",
   "metadata": {},
   "outputs": [],
   "source": [
    "def train(model, optimizer, train_loader, val_loader, device):\n",
    "    model.to(device)\n",
    "    criterion = nn.MSELoss().to(device)\n",
    "    best_loss = 9999999\n",
    "    best_model = None\n",
    "    \n",
    "    for epoch in range(1, CFG['nb_epochs']+1):\n",
    "        model.train()\n",
    "        train_loss = []\n",
    "        train_mae = []\n",
    "        for X, Y in tqdm(iter(train_loader)):\n",
    "            X = X.to(device)\n",
    "            Y = Y.to(device)\n",
    "            print(\"Y.squeeze()\",Y.squeeze().shape)\n",
    "            optimizer.zero_grad()\n",
    "        \n",
    "            output = model(X)\n",
    "            print(\"output\",output.shape)\n",
    "            loss = criterion(output, Y.squeeze())\n",
    "            \n",
    "            loss.backward()\n",
    "            optimizer.step()\n",
    "            \n",
    "            train_loss.append(loss.item())\n",
    "        \n",
    "        val_loss = validation(model, val_loader, criterion, device)\n",
    "        print(f'Epoch : [{epoch}] Train Loss : [{np.mean(train_loss):.5f}] Val Loss : [{val_loss:.5f}]')\n",
    "        \n",
    "        if best_loss > val_loss:\n",
    "            best_loss = val_loss\n",
    "            best_model = model\n",
    "            print('Model Saved')\n",
    "    return best_model"
   ]
  },
  {
   "cell_type": "code",
   "execution_count": 105,
   "id": "6b79168f",
   "metadata": {},
   "outputs": [],
   "source": [
    "def validation(model, val_loader, criterion, device):\n",
    "    model.eval()\n",
    "    val_loss = []\n",
    "    \n",
    "    with torch.no_grad():\n",
    "        for X, Y in tqdm(iter(val_loader)):\n",
    "            X = X.to(device)\n",
    "            Y = Y.to(device)\n",
    "            \n",
    "            output = model(X)\n",
    "            loss = criterion(output, Y.squeeze())\n",
    "            \n",
    "            val_loss.append(loss.item())\n",
    "    return np.mean(val_loss)"
   ]
  },
  {
   "cell_type": "code",
   "execution_count": 106,
   "id": "69c6cb10",
   "metadata": {},
   "outputs": [
    {
     "data": {
      "application/vnd.jupyter.widget-view+json": {
       "model_id": "dc8918a3df7242b7936c2c425d5e3135",
       "version_major": 2,
       "version_minor": 0
      },
      "text/plain": [
       "  0%|          | 0/17 [00:00<?, ?it/s]"
      ]
     },
     "metadata": {},
     "output_type": "display_data"
    },
    {
     "name": "stdout",
     "output_type": "stream",
     "text": [
      "Y.squeeze() torch.Size([25, 4])\n",
      "output torch.Size([25, 4])\n",
      "Y.squeeze() torch.Size([25, 4])\n",
      "output torch.Size([25, 4])\n",
      "Y.squeeze() torch.Size([25, 4])\n",
      "output torch.Size([25, 4])\n",
      "Y.squeeze() torch.Size([25, 4])\n",
      "output torch.Size([25, 4])\n",
      "Y.squeeze() torch.Size([25, 4])\n",
      "output torch.Size([25, 4])\n",
      "Y.squeeze() torch.Size([25, 4])\n",
      "output torch.Size([25, 4])\n",
      "Y.squeeze() torch.Size([25, 4])\n",
      "output torch.Size([25, 4])\n",
      "Y.squeeze() torch.Size([25, 4])\n",
      "output torch.Size([25, 4])\n",
      "Y.squeeze() torch.Size([25, 4])\n",
      "output torch.Size([25, 4])\n",
      "Y.squeeze() torch.Size([25, 4])\n",
      "output torch.Size([25, 4])\n",
      "Y.squeeze() torch.Size([25, 4])\n",
      "output torch.Size([25, 4])\n",
      "Y.squeeze() torch.Size([25, 4])\n",
      "output torch.Size([25, 4])\n",
      "Y.squeeze() torch.Size([25, 4])\n",
      "output torch.Size([25, 4])\n",
      "Y.squeeze() torch.Size([25, 4])\n",
      "output torch.Size([25, 4])\n",
      "Y.squeeze() torch.Size([25, 4])\n",
      "output torch.Size([25, 4])\n",
      "Y.squeeze() torch.Size([25, 4])\n",
      "output torch.Size([25, 4])\n",
      "Y.squeeze() torch.Size([24, 4])\n",
      "output torch.Size([24, 4])\n"
     ]
    },
    {
     "data": {
      "application/vnd.jupyter.widget-view+json": {
       "model_id": "3f8155e4c8e144e5a10ca0d55ea8301d",
       "version_major": 2,
       "version_minor": 0
      },
      "text/plain": [
       "  0%|          | 0/8 [00:00<?, ?it/s]"
      ]
     },
     "metadata": {},
     "output_type": "display_data"
    },
    {
     "name": "stdout",
     "output_type": "stream",
     "text": [
      "Epoch : [1] Train Loss : [20237329.41176] Val Loss : [17304389.87500]\n"
     ]
    },
    {
     "data": {
      "application/vnd.jupyter.widget-view+json": {
       "model_id": "caa3dae032a64d25b85873ac7975dc8a",
       "version_major": 2,
       "version_minor": 0
      },
      "text/plain": [
       "  0%|          | 0/17 [00:00<?, ?it/s]"
      ]
     },
     "metadata": {},
     "output_type": "display_data"
    },
    {
     "name": "stdout",
     "output_type": "stream",
     "text": [
      "Y.squeeze() torch.Size([25, 4])\n",
      "output torch.Size([25, 4])\n",
      "Y.squeeze() torch.Size([25, 4])\n",
      "output torch.Size([25, 4])\n",
      "Y.squeeze() torch.Size([25, 4])\n",
      "output torch.Size([25, 4])\n",
      "Y.squeeze() torch.Size([25, 4])\n",
      "output torch.Size([25, 4])\n",
      "Y.squeeze() torch.Size([25, 4])\n",
      "output torch.Size([25, 4])\n",
      "Y.squeeze() torch.Size([25, 4])\n",
      "output torch.Size([25, 4])\n",
      "Y.squeeze() torch.Size([25, 4])\n",
      "output torch.Size([25, 4])\n",
      "Y.squeeze() torch.Size([25, 4])\n",
      "output torch.Size([25, 4])\n",
      "Y.squeeze() torch.Size([25, 4])\n",
      "output torch.Size([25, 4])\n",
      "Y.squeeze() torch.Size([25, 4])\n",
      "output torch.Size([25, 4])\n",
      "Y.squeeze() torch.Size([25, 4])\n",
      "output torch.Size([25, 4])\n",
      "Y.squeeze() torch.Size([25, 4])\n",
      "output torch.Size([25, 4])\n",
      "Y.squeeze() torch.Size([25, 4])\n",
      "output torch.Size([25, 4])\n",
      "Y.squeeze() torch.Size([25, 4])\n",
      "output torch.Size([25, 4])\n",
      "Y.squeeze() torch.Size([25, 4])\n",
      "output torch.Size([25, 4])\n",
      "Y.squeeze() torch.Size([25, 4])\n",
      "output torch.Size([25, 4])\n",
      "Y.squeeze() torch.Size([24, 4])\n",
      "output torch.Size([24, 4])\n"
     ]
    },
    {
     "data": {
      "application/vnd.jupyter.widget-view+json": {
       "model_id": "3d89e38332b94c3c916e29013bc6b213",
       "version_major": 2,
       "version_minor": 0
      },
      "text/plain": [
       "  0%|          | 0/8 [00:00<?, ?it/s]"
      ]
     },
     "metadata": {},
     "output_type": "display_data"
    },
    {
     "name": "stdout",
     "output_type": "stream",
     "text": [
      "Epoch : [2] Train Loss : [20237098.88235] Val Loss : [17304168.12500]\n"
     ]
    },
    {
     "data": {
      "application/vnd.jupyter.widget-view+json": {
       "model_id": "61a680de4d8144e2af5db1a43ecf5bfd",
       "version_major": 2,
       "version_minor": 0
      },
      "text/plain": [
       "  0%|          | 0/17 [00:00<?, ?it/s]"
      ]
     },
     "metadata": {},
     "output_type": "display_data"
    },
    {
     "name": "stdout",
     "output_type": "stream",
     "text": [
      "Y.squeeze() torch.Size([25, 4])\n",
      "output torch.Size([25, 4])\n",
      "Y.squeeze() torch.Size([25, 4])\n",
      "output torch.Size([25, 4])\n",
      "Y.squeeze() torch.Size([25, 4])\n",
      "output torch.Size([25, 4])\n",
      "Y.squeeze() torch.Size([25, 4])\n",
      "output torch.Size([25, 4])\n",
      "Y.squeeze() torch.Size([25, 4])\n",
      "output torch.Size([25, 4])\n",
      "Y.squeeze() torch.Size([25, 4])\n",
      "output torch.Size([25, 4])\n",
      "Y.squeeze() torch.Size([25, 4])\n",
      "output torch.Size([25, 4])\n",
      "Y.squeeze() torch.Size([25, 4])\n",
      "output torch.Size([25, 4])\n",
      "Y.squeeze() torch.Size([25, 4])\n",
      "output torch.Size([25, 4])\n",
      "Y.squeeze() torch.Size([25, 4])\n",
      "output torch.Size([25, 4])\n",
      "Y.squeeze() torch.Size([25, 4])\n",
      "output torch.Size([25, 4])\n",
      "Y.squeeze() torch.Size([25, 4])\n",
      "output torch.Size([25, 4])\n",
      "Y.squeeze() torch.Size([25, 4])\n",
      "output torch.Size([25, 4])\n",
      "Y.squeeze() torch.Size([25, 4])\n",
      "output torch.Size([25, 4])\n",
      "Y.squeeze() torch.Size([25, 4])\n",
      "output torch.Size([25, 4])\n",
      "Y.squeeze() torch.Size([25, 4])\n",
      "output torch.Size([25, 4])\n",
      "Y.squeeze() torch.Size([24, 4])\n",
      "output torch.Size([24, 4])\n"
     ]
    },
    {
     "data": {
      "application/vnd.jupyter.widget-view+json": {
       "model_id": "66760c3d6a7f4796a85185b412e98661",
       "version_major": 2,
       "version_minor": 0
      },
      "text/plain": [
       "  0%|          | 0/8 [00:00<?, ?it/s]"
      ]
     },
     "metadata": {},
     "output_type": "display_data"
    },
    {
     "name": "stdout",
     "output_type": "stream",
     "text": [
      "Epoch : [3] Train Loss : [20236824.94118] Val Loss : [17303890.75000]\n"
     ]
    },
    {
     "data": {
      "application/vnd.jupyter.widget-view+json": {
       "model_id": "753fc0009d9a4063a286a9ec30d2a057",
       "version_major": 2,
       "version_minor": 0
      },
      "text/plain": [
       "  0%|          | 0/17 [00:00<?, ?it/s]"
      ]
     },
     "metadata": {},
     "output_type": "display_data"
    },
    {
     "name": "stdout",
     "output_type": "stream",
     "text": [
      "Y.squeeze() torch.Size([25, 4])\n",
      "output torch.Size([25, 4])\n",
      "Y.squeeze() torch.Size([25, 4])\n",
      "output torch.Size([25, 4])\n",
      "Y.squeeze() torch.Size([25, 4])\n",
      "output torch.Size([25, 4])\n",
      "Y.squeeze() torch.Size([25, 4])\n",
      "output torch.Size([25, 4])\n",
      "Y.squeeze() torch.Size([25, 4])\n",
      "output torch.Size([25, 4])\n",
      "Y.squeeze() torch.Size([25, 4])\n",
      "output torch.Size([25, 4])\n",
      "Y.squeeze() torch.Size([25, 4])\n",
      "output torch.Size([25, 4])\n",
      "Y.squeeze() torch.Size([25, 4])\n",
      "output torch.Size([25, 4])\n",
      "Y.squeeze() torch.Size([25, 4])\n",
      "output torch.Size([25, 4])\n",
      "Y.squeeze() torch.Size([25, 4])\n",
      "output torch.Size([25, 4])\n",
      "Y.squeeze() torch.Size([25, 4])\n",
      "output torch.Size([25, 4])\n",
      "Y.squeeze() torch.Size([25, 4])\n",
      "output torch.Size([25, 4])\n",
      "Y.squeeze() torch.Size([25, 4])\n",
      "output torch.Size([25, 4])\n",
      "Y.squeeze() torch.Size([25, 4])\n",
      "output torch.Size([25, 4])\n",
      "Y.squeeze() torch.Size([25, 4])\n",
      "output torch.Size([25, 4])\n",
      "Y.squeeze() torch.Size([25, 4])\n",
      "output torch.Size([25, 4])\n",
      "Y.squeeze() torch.Size([24, 4])\n",
      "output torch.Size([24, 4])\n"
     ]
    },
    {
     "data": {
      "application/vnd.jupyter.widget-view+json": {
       "model_id": "3468dbcab71d4d6fbfcaae7804765e3d",
       "version_major": 2,
       "version_minor": 0
      },
      "text/plain": [
       "  0%|          | 0/8 [00:00<?, ?it/s]"
      ]
     },
     "metadata": {},
     "output_type": "display_data"
    },
    {
     "name": "stdout",
     "output_type": "stream",
     "text": [
      "Epoch : [4] Train Loss : [20236505.05882] Val Loss : [17303552.12500]\n"
     ]
    },
    {
     "data": {
      "application/vnd.jupyter.widget-view+json": {
       "model_id": "c0b1926abd5c4ca38e859d045607a9fd",
       "version_major": 2,
       "version_minor": 0
      },
      "text/plain": [
       "  0%|          | 0/17 [00:00<?, ?it/s]"
      ]
     },
     "metadata": {},
     "output_type": "display_data"
    },
    {
     "name": "stdout",
     "output_type": "stream",
     "text": [
      "Y.squeeze() torch.Size([25, 4])\n",
      "output torch.Size([25, 4])\n",
      "Y.squeeze() torch.Size([25, 4])\n",
      "output torch.Size([25, 4])\n",
      "Y.squeeze() torch.Size([25, 4])\n",
      "output torch.Size([25, 4])\n",
      "Y.squeeze() torch.Size([25, 4])\n",
      "output torch.Size([25, 4])\n",
      "Y.squeeze() torch.Size([25, 4])\n",
      "output torch.Size([25, 4])\n",
      "Y.squeeze() torch.Size([25, 4])\n",
      "output torch.Size([25, 4])\n",
      "Y.squeeze() torch.Size([25, 4])\n",
      "output torch.Size([25, 4])\n",
      "Y.squeeze() torch.Size([25, 4])\n",
      "output torch.Size([25, 4])\n",
      "Y.squeeze() torch.Size([25, 4])\n",
      "output torch.Size([25, 4])\n",
      "Y.squeeze() torch.Size([25, 4])\n",
      "output torch.Size([25, 4])\n",
      "Y.squeeze() torch.Size([25, 4])\n",
      "output torch.Size([25, 4])\n",
      "Y.squeeze() torch.Size([25, 4])\n",
      "output torch.Size([25, 4])\n",
      "Y.squeeze() torch.Size([25, 4])\n",
      "output torch.Size([25, 4])\n",
      "Y.squeeze() torch.Size([25, 4])\n",
      "output torch.Size([25, 4])\n",
      "Y.squeeze() torch.Size([25, 4])\n",
      "output torch.Size([25, 4])\n",
      "Y.squeeze() torch.Size([25, 4])\n",
      "output torch.Size([25, 4])\n",
      "Y.squeeze() torch.Size([24, 4])\n",
      "output torch.Size([24, 4])\n"
     ]
    },
    {
     "data": {
      "application/vnd.jupyter.widget-view+json": {
       "model_id": "41be9e7ff8d042ddb5fc9aa0c208d22c",
       "version_major": 2,
       "version_minor": 0
      },
      "text/plain": [
       "  0%|          | 0/8 [00:00<?, ?it/s]"
      ]
     },
     "metadata": {},
     "output_type": "display_data"
    },
    {
     "name": "stdout",
     "output_type": "stream",
     "text": [
      "Epoch : [5] Train Loss : [20236045.70588] Val Loss : [17303134.87500]\n"
     ]
    },
    {
     "data": {
      "application/vnd.jupyter.widget-view+json": {
       "model_id": "f9bf4899fd3f40c887e117ba4cc9f292",
       "version_major": 2,
       "version_minor": 0
      },
      "text/plain": [
       "  0%|          | 0/17 [00:00<?, ?it/s]"
      ]
     },
     "metadata": {},
     "output_type": "display_data"
    },
    {
     "name": "stdout",
     "output_type": "stream",
     "text": [
      "Y.squeeze() torch.Size([25, 4])\n",
      "output torch.Size([25, 4])\n",
      "Y.squeeze() torch.Size([25, 4])\n",
      "output torch.Size([25, 4])\n",
      "Y.squeeze() torch.Size([25, 4])\n",
      "output torch.Size([25, 4])\n",
      "Y.squeeze() torch.Size([25, 4])\n",
      "output torch.Size([25, 4])\n",
      "Y.squeeze() torch.Size([25, 4])\n",
      "output torch.Size([25, 4])\n",
      "Y.squeeze() torch.Size([25, 4])\n",
      "output torch.Size([25, 4])\n",
      "Y.squeeze() torch.Size([25, 4])\n",
      "output torch.Size([25, 4])\n",
      "Y.squeeze() torch.Size([25, 4])\n",
      "output torch.Size([25, 4])\n",
      "Y.squeeze() torch.Size([25, 4])\n",
      "output torch.Size([25, 4])\n",
      "Y.squeeze() torch.Size([25, 4])\n",
      "output torch.Size([25, 4])\n",
      "Y.squeeze() torch.Size([25, 4])\n",
      "output torch.Size([25, 4])\n",
      "Y.squeeze() torch.Size([25, 4])\n",
      "output torch.Size([25, 4])\n",
      "Y.squeeze() torch.Size([25, 4])\n",
      "output torch.Size([25, 4])\n",
      "Y.squeeze() torch.Size([25, 4])\n",
      "output torch.Size([25, 4])\n",
      "Y.squeeze() torch.Size([25, 4])\n",
      "output torch.Size([25, 4])\n",
      "Y.squeeze() torch.Size([25, 4])\n",
      "output torch.Size([25, 4])\n",
      "Y.squeeze() torch.Size([24, 4])\n",
      "output torch.Size([24, 4])\n"
     ]
    },
    {
     "data": {
      "application/vnd.jupyter.widget-view+json": {
       "model_id": "cd9b9046352f4c2e9dfac5c140bd49de",
       "version_major": 2,
       "version_minor": 0
      },
      "text/plain": [
       "  0%|          | 0/8 [00:00<?, ?it/s]"
      ]
     },
     "metadata": {},
     "output_type": "display_data"
    },
    {
     "name": "stdout",
     "output_type": "stream",
     "text": [
      "Epoch : [6] Train Loss : [20235462.41176] Val Loss : [17302414.50000]\n"
     ]
    },
    {
     "data": {
      "application/vnd.jupyter.widget-view+json": {
       "model_id": "8e3d44dc517d444aa5d1f9881cd0465d",
       "version_major": 2,
       "version_minor": 0
      },
      "text/plain": [
       "  0%|          | 0/17 [00:00<?, ?it/s]"
      ]
     },
     "metadata": {},
     "output_type": "display_data"
    },
    {
     "name": "stdout",
     "output_type": "stream",
     "text": [
      "Y.squeeze() torch.Size([25, 4])\n",
      "output torch.Size([25, 4])\n",
      "Y.squeeze() torch.Size([25, 4])\n",
      "output torch.Size([25, 4])\n",
      "Y.squeeze() torch.Size([25, 4])\n",
      "output torch.Size([25, 4])\n",
      "Y.squeeze() torch.Size([25, 4])\n",
      "output torch.Size([25, 4])\n",
      "Y.squeeze() torch.Size([25, 4])\n",
      "output torch.Size([25, 4])\n",
      "Y.squeeze() torch.Size([25, 4])\n",
      "output torch.Size([25, 4])\n",
      "Y.squeeze() torch.Size([25, 4])\n",
      "output torch.Size([25, 4])\n",
      "Y.squeeze() torch.Size([25, 4])\n",
      "output torch.Size([25, 4])\n",
      "Y.squeeze() torch.Size([25, 4])\n",
      "output torch.Size([25, 4])\n",
      "Y.squeeze() torch.Size([25, 4])\n",
      "output torch.Size([25, 4])\n",
      "Y.squeeze() torch.Size([25, 4])\n",
      "output torch.Size([25, 4])\n",
      "Y.squeeze() torch.Size([25, 4])\n",
      "output torch.Size([25, 4])\n",
      "Y.squeeze() torch.Size([25, 4])\n",
      "output torch.Size([25, 4])\n",
      "Y.squeeze() torch.Size([25, 4])\n",
      "output torch.Size([25, 4])\n",
      "Y.squeeze() torch.Size([25, 4])\n",
      "output torch.Size([25, 4])\n",
      "Y.squeeze() torch.Size([25, 4])\n",
      "output torch.Size([25, 4])\n",
      "Y.squeeze() torch.Size([24, 4])\n",
      "output torch.Size([24, 4])\n"
     ]
    },
    {
     "data": {
      "application/vnd.jupyter.widget-view+json": {
       "model_id": "bfbc85f13eed4a5d985611231169ee4f",
       "version_major": 2,
       "version_minor": 0
      },
      "text/plain": [
       "  0%|          | 0/8 [00:00<?, ?it/s]"
      ]
     },
     "metadata": {},
     "output_type": "display_data"
    },
    {
     "name": "stdout",
     "output_type": "stream",
     "text": [
      "Epoch : [7] Train Loss : [20234661.41176] Val Loss : [17301563.37500]\n"
     ]
    },
    {
     "data": {
      "application/vnd.jupyter.widget-view+json": {
       "model_id": "5edec081d4a34a71b78ce07f8c3317cf",
       "version_major": 2,
       "version_minor": 0
      },
      "text/plain": [
       "  0%|          | 0/17 [00:00<?, ?it/s]"
      ]
     },
     "metadata": {},
     "output_type": "display_data"
    },
    {
     "name": "stdout",
     "output_type": "stream",
     "text": [
      "Y.squeeze() torch.Size([25, 4])\n",
      "output torch.Size([25, 4])\n",
      "Y.squeeze() torch.Size([25, 4])\n",
      "output torch.Size([25, 4])\n",
      "Y.squeeze() torch.Size([25, 4])\n",
      "output torch.Size([25, 4])\n",
      "Y.squeeze() torch.Size([25, 4])\n",
      "output torch.Size([25, 4])\n",
      "Y.squeeze() torch.Size([25, 4])\n",
      "output torch.Size([25, 4])\n",
      "Y.squeeze() torch.Size([25, 4])\n",
      "output torch.Size([25, 4])\n",
      "Y.squeeze() torch.Size([25, 4])\n",
      "output torch.Size([25, 4])\n",
      "Y.squeeze() torch.Size([25, 4])\n",
      "output torch.Size([25, 4])\n",
      "Y.squeeze() torch.Size([25, 4])\n",
      "output torch.Size([25, 4])\n",
      "Y.squeeze() torch.Size([25, 4])\n",
      "output torch.Size([25, 4])\n",
      "Y.squeeze() torch.Size([25, 4])\n",
      "output torch.Size([25, 4])\n",
      "Y.squeeze() torch.Size([25, 4])\n",
      "output torch.Size([25, 4])\n",
      "Y.squeeze() torch.Size([25, 4])\n",
      "output torch.Size([25, 4])\n",
      "Y.squeeze() torch.Size([25, 4])\n",
      "output torch.Size([25, 4])\n",
      "Y.squeeze() torch.Size([25, 4])\n",
      "output torch.Size([25, 4])\n",
      "Y.squeeze() torch.Size([25, 4])\n",
      "output torch.Size([25, 4])\n",
      "Y.squeeze() torch.Size([24, 4])\n",
      "output torch.Size([24, 4])\n"
     ]
    },
    {
     "data": {
      "application/vnd.jupyter.widget-view+json": {
       "model_id": "db2d39ce80b944e6b7e272e6d445bb81",
       "version_major": 2,
       "version_minor": 0
      },
      "text/plain": [
       "  0%|          | 0/8 [00:00<?, ?it/s]"
      ]
     },
     "metadata": {},
     "output_type": "display_data"
    },
    {
     "name": "stdout",
     "output_type": "stream",
     "text": [
      "Epoch : [8] Train Loss : [20233328.82353] Val Loss : [17300302.12500]\n"
     ]
    },
    {
     "data": {
      "application/vnd.jupyter.widget-view+json": {
       "model_id": "86f504b8895f44a893f5462ce05bfbc1",
       "version_major": 2,
       "version_minor": 0
      },
      "text/plain": [
       "  0%|          | 0/17 [00:00<?, ?it/s]"
      ]
     },
     "metadata": {},
     "output_type": "display_data"
    },
    {
     "name": "stdout",
     "output_type": "stream",
     "text": [
      "Y.squeeze() torch.Size([25, 4])\n",
      "output torch.Size([25, 4])\n",
      "Y.squeeze() torch.Size([25, 4])\n",
      "output torch.Size([25, 4])\n",
      "Y.squeeze() torch.Size([25, 4])\n",
      "output torch.Size([25, 4])\n",
      "Y.squeeze() torch.Size([25, 4])\n",
      "output torch.Size([25, 4])\n",
      "Y.squeeze() torch.Size([25, 4])\n",
      "output torch.Size([25, 4])\n",
      "Y.squeeze() torch.Size([25, 4])\n",
      "output torch.Size([25, 4])\n",
      "Y.squeeze() torch.Size([25, 4])\n",
      "output torch.Size([25, 4])\n",
      "Y.squeeze() torch.Size([25, 4])\n",
      "output torch.Size([25, 4])\n",
      "Y.squeeze() torch.Size([25, 4])\n",
      "output torch.Size([25, 4])\n",
      "Y.squeeze() torch.Size([25, 4])\n",
      "output torch.Size([25, 4])\n",
      "Y.squeeze() torch.Size([25, 4])\n",
      "output torch.Size([25, 4])\n",
      "Y.squeeze() torch.Size([25, 4])\n",
      "output torch.Size([25, 4])\n",
      "Y.squeeze() torch.Size([25, 4])\n",
      "output torch.Size([25, 4])\n",
      "Y.squeeze() torch.Size([25, 4])\n",
      "output torch.Size([25, 4])\n",
      "Y.squeeze() torch.Size([25, 4])\n",
      "output torch.Size([25, 4])\n",
      "Y.squeeze() torch.Size([25, 4])\n",
      "output torch.Size([25, 4])\n",
      "Y.squeeze() torch.Size([24, 4])\n",
      "output torch.Size([24, 4])\n"
     ]
    },
    {
     "data": {
      "application/vnd.jupyter.widget-view+json": {
       "model_id": "b20902519d7e4658b7ec9c904dfdcc5f",
       "version_major": 2,
       "version_minor": 0
      },
      "text/plain": [
       "  0%|          | 0/8 [00:00<?, ?it/s]"
      ]
     },
     "metadata": {},
     "output_type": "display_data"
    },
    {
     "name": "stdout",
     "output_type": "stream",
     "text": [
      "Epoch : [9] Train Loss : [20231838.23529] Val Loss : [17298721.75000]\n"
     ]
    },
    {
     "data": {
      "application/vnd.jupyter.widget-view+json": {
       "model_id": "f6565b3aad7840a0bd22a1dfa843e687",
       "version_major": 2,
       "version_minor": 0
      },
      "text/plain": [
       "  0%|          | 0/17 [00:00<?, ?it/s]"
      ]
     },
     "metadata": {},
     "output_type": "display_data"
    },
    {
     "name": "stdout",
     "output_type": "stream",
     "text": [
      "Y.squeeze() torch.Size([25, 4])\n",
      "output torch.Size([25, 4])\n",
      "Y.squeeze() torch.Size([25, 4])\n",
      "output torch.Size([25, 4])\n",
      "Y.squeeze() torch.Size([25, 4])\n",
      "output torch.Size([25, 4])\n",
      "Y.squeeze() torch.Size([25, 4])\n",
      "output torch.Size([25, 4])\n",
      "Y.squeeze() torch.Size([25, 4])\n",
      "output torch.Size([25, 4])\n",
      "Y.squeeze() torch.Size([25, 4])\n",
      "output torch.Size([25, 4])\n",
      "Y.squeeze() torch.Size([25, 4])\n",
      "output torch.Size([25, 4])\n",
      "Y.squeeze() torch.Size([25, 4])\n",
      "output torch.Size([25, 4])\n",
      "Y.squeeze() torch.Size([25, 4])\n",
      "output torch.Size([25, 4])\n",
      "Y.squeeze() torch.Size([25, 4])\n",
      "output torch.Size([25, 4])\n",
      "Y.squeeze() torch.Size([25, 4])\n",
      "output torch.Size([25, 4])\n",
      "Y.squeeze() torch.Size([25, 4])\n",
      "output torch.Size([25, 4])\n",
      "Y.squeeze() torch.Size([25, 4])\n",
      "output torch.Size([25, 4])\n",
      "Y.squeeze() torch.Size([25, 4])\n",
      "output torch.Size([25, 4])\n",
      "Y.squeeze() torch.Size([25, 4])\n",
      "output torch.Size([25, 4])\n",
      "Y.squeeze() torch.Size([25, 4])\n",
      "output torch.Size([25, 4])\n",
      "Y.squeeze() torch.Size([24, 4])\n",
      "output torch.Size([24, 4])\n"
     ]
    },
    {
     "data": {
      "application/vnd.jupyter.widget-view+json": {
       "model_id": "032110f5e8a545d1b193fae9578e3eaa",
       "version_major": 2,
       "version_minor": 0
      },
      "text/plain": [
       "  0%|          | 0/8 [00:00<?, ?it/s]"
      ]
     },
     "metadata": {},
     "output_type": "display_data"
    },
    {
     "name": "stdout",
     "output_type": "stream",
     "text": [
      "Epoch : [10] Train Loss : [20230252.00000] Val Loss : [17297002.25000]\n"
     ]
    }
   ],
   "source": [
    "model = BaseModel()\n",
    "optimizer = torch.optim.Adam(params = model.parameters(), lr = CFG[\"LEARNING_RATE\"])\n",
    "infer_model = train(model, optimizer, train_loader, val_loader, device)"
   ]
  },
  {
   "cell_type": "code",
   "execution_count": null,
   "id": "c2cf9810",
   "metadata": {},
   "outputs": [],
   "source": [
    "test_dataset = CustomDataset(test_input, None)\n",
    "test_loader = DataLoader(test_dataset, batch_size = CFG['BATCH_SIZE'], shuffle=False, num_workers=0)"
   ]
  },
  {
   "cell_type": "code",
   "execution_count": null,
   "id": "72bf48f7",
   "metadata": {},
   "outputs": [],
   "source": [
    "def inference(model, test_loader, device):\n",
    "    predictions = []\n",
    "    \n",
    "    with torch.no_grad():\n",
    "        for X in tqdm(iter(test_loader)):\n",
    "            X = X.to(device)\n",
    "            \n",
    "            output = model(X)\n",
    "            \n",
    "            # 모델 출력인 output을 CPU로 이동하고 numpy 배열로 변환\n",
    "            output = output.cpu().numpy()\n",
    "            \n",
    "            predictions.extend(output)\n",
    "            print(np.array(predictions))\n",
    "    return np.array(predictions)"
   ]
  },
  {
   "cell_type": "code",
   "execution_count": null,
   "id": "05751d28",
   "metadata": {},
   "outputs": [],
   "source": [
    "pred = inference(infer_model, test_loader, device)\n",
    "\n",
    "# 추론 결과를 inverse scaling\n",
    "for idx in range(len(pred)):\n",
    "    pred[idx, :] = pred[idx, :] * (scale_max_dict[idx] - scale_min_dict[idx]) + scale_min_dict[idx]\n",
    "    \n",
    "# 결과 후처리\n",
    "pred = np.round(pred, 0).astype(int)"
   ]
  },
  {
   "cell_type": "code",
   "execution_count": null,
   "id": "1a7b2704",
   "metadata": {},
   "outputs": [],
   "source": []
  },
  {
   "cell_type": "code",
   "execution_count": null,
   "id": "0537914b",
   "metadata": {},
   "outputs": [],
   "source": []
  },
  {
   "cell_type": "code",
   "execution_count": null,
   "id": "142af580",
   "metadata": {},
   "outputs": [],
   "source": []
  },
  {
   "cell_type": "code",
   "execution_count": null,
   "id": "59005ece",
   "metadata": {},
   "outputs": [],
   "source": []
  },
  {
   "cell_type": "code",
   "execution_count": null,
   "id": "ddb8e6f3",
   "metadata": {},
   "outputs": [],
   "source": []
  },
  {
   "cell_type": "code",
   "execution_count": null,
   "id": "e4f5602d",
   "metadata": {},
   "outputs": [],
   "source": []
  },
  {
   "cell_type": "code",
   "execution_count": null,
   "id": "f6830240",
   "metadata": {},
   "outputs": [],
   "source": []
  },
  {
   "cell_type": "code",
   "execution_count": null,
   "id": "fa713745",
   "metadata": {},
   "outputs": [],
   "source": []
  },
  {
   "cell_type": "code",
   "execution_count": 8,
   "id": "14018dfb",
   "metadata": {},
   "outputs": [
    {
     "name": "stderr",
     "output_type": "stream",
     "text": [
      "C:\\Users\\jaemin\\Anaconda3\\envs\\jm\\lib\\site-packages\\pandas\\core\\indexing.py:1835: SettingWithCopyWarning: \n",
      "A value is trying to be set on a copy of a slice from a DataFrame.\n",
      "Try using .loc[row_indexer,col_indexer] = value instead\n",
      "\n",
      "See the caveats in the documentation: https://pandas.pydata.org/pandas-docs/stable/user_guide/indexing.html#returning-a-view-versus-a-copy\n",
      "  self._setitem_single_column(loc, value[:, i].tolist(), pi)\n",
      "C:\\Users\\jaemin\\Anaconda3\\envs\\jm\\lib\\site-packages\\pandas\\core\\indexing.py:1835: SettingWithCopyWarning: \n",
      "A value is trying to be set on a copy of a slice from a DataFrame.\n",
      "Try using .loc[row_indexer,col_indexer] = value instead\n",
      "\n",
      "See the caveats in the documentation: https://pandas.pydata.org/pandas-docs/stable/user_guide/indexing.html#returning-a-view-versus-a-copy\n",
      "  self._setitem_single_column(loc, value[:, i].tolist(), pi)\n",
      "C:\\Users\\jaemin\\Anaconda3\\envs\\jm\\lib\\site-packages\\pandas\\core\\indexing.py:1835: SettingWithCopyWarning: \n",
      "A value is trying to be set on a copy of a slice from a DataFrame.\n",
      "Try using .loc[row_indexer,col_indexer] = value instead\n",
      "\n",
      "See the caveats in the documentation: https://pandas.pydata.org/pandas-docs/stable/user_guide/indexing.html#returning-a-view-versus-a-copy\n",
      "  self._setitem_single_column(loc, value[:, i].tolist(), pi)\n",
      "C:\\Users\\jaemin\\Anaconda3\\envs\\jm\\lib\\site-packages\\pandas\\core\\indexing.py:1835: SettingWithCopyWarning: \n",
      "A value is trying to be set on a copy of a slice from a DataFrame.\n",
      "Try using .loc[row_indexer,col_indexer] = value instead\n",
      "\n",
      "See the caveats in the documentation: https://pandas.pydata.org/pandas-docs/stable/user_guide/indexing.html#returning-a-view-versus-a-copy\n",
      "  self._setitem_single_column(loc, value[:, i].tolist(), pi)\n"
     ]
    },
    {
     "name": "stdout",
     "output_type": "stream",
     "text": [
      "Epoch: 0000 train loss : 0.0679\n",
      "Epoch: 0020 train loss : 0.0409\n",
      "Epoch: 0040 train loss : 0.0354\n",
      "\n",
      " Early Stopping\n"
     ]
    },
    {
     "data": {
      "image/png": "[encoded data removed]",
      "text/plain": [
       "<Figure size 1000x400 with 1 Axes>"
      ]
     },
     "metadata": {},
     "output_type": "display_data"
    }
   ],
   "source": [
    "class Net(nn.Module):\n",
    "    # # 기본변수, layer를 초기화해주는 생성자\n",
    "    def __init__(self, input_dim, hidden_dim, seq_len, output_dim, layers):\n",
    "        super(Net, self).__init__()\n",
    "        self.hidden_dim = hidden_dim\n",
    "        self.seq_len = seq_len\n",
    "        self.output_dim = output_dim\n",
    "        self.layers = layers\n",
    "        \n",
    "        self.lstm = nn.LSTM(input_dim, hidden_dim, num_layers=layers,\n",
    "                            # dropout = 0.1,\n",
    "                            batch_first=True)\n",
    "        self.fc = nn.Linear(hidden_dim, output_dim, bias = True) \n",
    "        \n",
    "    # 학습 초기화를 위한 함수\n",
    "    def reset_hidden_state(self): \n",
    "        self.hidden = (\n",
    "                torch.zeros(self.layers, self.seq_len, self.hidden_dim),\n",
    "                torch.zeros(self.layers, self.seq_len, self.hidden_dim))\n",
    "    \n",
    "    # 예측을 위한 함수\n",
    "    def forward(self, x):\n",
    "        x, _status = self.lstm(x)\n",
    "        x = self.fc(x[:, -1])\n",
    "        return x\n",
    "\n",
    "def train_model(model, train_df, num_epochs = None, lr = None, verbose = 10, patience = 10):\n",
    "     \n",
    "    criterion = nn.MSELoss().to(device)\n",
    "    optimizer = optim.Adam(model.parameters(), lr = learning_rate)\n",
    "    nb_epochs = num_epochs\n",
    "    \n",
    "    # epoch마다 loss 저장\n",
    "    train_hist = np.zeros(nb_epochs)\n",
    "\n",
    "    for epoch in range(nb_epochs):\n",
    "        avg_cost = 0\n",
    "        total_batch = len(train_df)\n",
    "        \n",
    "        for batch_idx, samples in enumerate(train_df):\n",
    "\n",
    "            x_train, y_train = samples\n",
    "            x_train=x_train.to(device)\n",
    "            y_train=y_train.to(device)\n",
    "            #print(\"x_train\",x_train)\n",
    "            # seq별 hidden state reset\n",
    "            model.reset_hidden_state()\n",
    "            \n",
    "            # H(x) 계산\n",
    "            outputs = model(x_train)\n",
    "                \n",
    "            # cost 계산\n",
    "            loss = criterion(outputs, y_train)                    \n",
    "            \n",
    "            # cost로 H(x) 개선\n",
    "            optimizer.zero_grad()\n",
    "            loss.backward()\n",
    "            optimizer.step()\n",
    "            \n",
    "            avg_cost += loss/total_batch\n",
    "               \n",
    "        train_hist[epoch] = avg_cost        \n",
    "        \n",
    "        if epoch % verbose == 0:\n",
    "            print('Epoch:', '%04d' % (epoch), 'train loss :', '{:.4f}'.format(avg_cost))\n",
    "            \n",
    "        # patience번째 마다 early stopping 여부 확인\n",
    "        if (epoch % patience == 0) & (epoch != 0):\n",
    "            \n",
    "            # loss가 커졌다면 early stop\n",
    "            if train_hist[epoch-patience] < train_hist[epoch]:\n",
    "                print('\\n Early Stopping')\n",
    "                \n",
    "                break\n",
    "            \n",
    "    return model.eval(), train_hist\n",
    "\n",
    "# 모델 학습\n",
    "net = Net(data_dim, hidden_dim, seq_length, output_dim, 1).to(device)  \n",
    "model, train_hist = train_model(net, dataloader, num_epochs = nb_epochs, lr = learning_rate, verbose = 20, patience = 10)\n",
    "\n",
    "# epoch별 손실값\n",
    "fig = plt.figure(figsize=(10, 4))\n",
    "plt.plot(train_hist, label=\"Training loss\")\n",
    "plt.legend()\n",
    "plt.show()\n",
    "\n",
    "# 모델 저장    \n",
    "PATH = \"./Timeseries_LSTM_data-02-stock_daily_2.pth\"\n",
    "torch.save(model.state_dict(), PATH)\n",
    "\n",
    "# 불러오기\n",
    "model = Net(data_dim, hidden_dim, seq_length, output_dim, 1).to(device)  \n",
    "model.load_state_dict(torch.load(PATH), strict=False)\n",
    "model.eval()\n",
    "# 예측 테스트\n",
    "with torch.no_grad(): \n",
    "    pred = []\n",
    "    for pr in range(len(testX_tensor)):\n",
    "\n",
    "        model.reset_hidden_state()\n",
    "\n",
    "        predicted = model(torch.unsqueeze(testX_tensor[pr], 0).to(device) )\n",
    "        predicted = torch.flatten(predicted).item()\n",
    "        pred.append(predicted)\n",
    "\n",
    "    # INVERSE\n",
    "    pred_inverse = scaler_y.inverse_transform(np.array(pred).reshape(-1, 1))\n",
    "    testY_inverse = scaler_y.inverse_transform(testY_tensor)"
   ]
  },
  {
   "cell_type": "code",
   "execution_count": 9,
   "id": "06e9ed94",
   "metadata": {},
   "outputs": [
    {
     "name": "stdout",
     "output_type": "stream",
     "text": [
      "MAE SCORE :  810.9381659881681\n",
      "MAE 810.9381659881681\n",
      "MSE 1001735.5848655311\n",
      "MSE 1000.8674162273098\n",
      "MAPE 23.144831883539872\n"
     ]
    }
   ],
   "source": [
    "def MAE(true, pred):\n",
    "    return np.mean(np.abs(true-pred))\n",
    "\n",
    "print('MAE SCORE : ', MAE(pred_inverse, testY_inverse))\n",
    "\n",
    "#MAE\n",
    "from sklearn.metrics import mean_absolute_error\n",
    "\n",
    "print(\"MAE\",mean_absolute_error(testY_inverse,pred_inverse))\n",
    "\n",
    "#MSE\n",
    "from sklearn.metrics import mean_squared_error\n",
    "\n",
    "print(\"MSE\",mean_squared_error(testY_inverse,pred_inverse))\n",
    "\n",
    "#RMSE\n",
    "import numpy as np\n",
    "from sklearn.metrics import mean_squared_error\n",
    "\n",
    "MSE = mean_squared_error(testY_inverse,pred_inverse)\n",
    "print(\"MSE\",np.sqrt(MSE))\n",
    "# sklearn 은 mse만 제공하기 때문에 rmse는 직접 만들어 써야한다.\n",
    "\n",
    "#MAPE\n",
    "import numpy as np\n",
    "\n",
    "def MAPE(y_test, y_pred):\n",
    "\treturn np.mean(np.abs((y_test - y_pred) / y_test)) * 100\n",
    "    \n",
    "print(\"MAPE\",MAPE(testY_inverse, pred_inverse))"
   ]
  },
  {
   "cell_type": "code",
   "execution_count": 10,
   "id": "e5fe1919",
   "metadata": {},
   "outputs": [
    {
     "data": {
      "image/png": "[encoded data removed]",
      "text/plain": [
       "<Figure size 800x300 with 1 Axes>"
      ]
     },
     "metadata": {},
     "output_type": "display_data"
    }
   ],
   "source": [
    "fig = plt.figure(figsize=(8,3))\n",
    "plt.plot(np.arange(len(pred_inverse)), pred_inverse, label = 'pred')\n",
    "plt.plot(np.arange(len(testY_inverse)), testY_inverse, label = 'true')\n",
    "plt.title(\"경락단가+감성점수->도매가격\")\n",
    "plt.show()"
   ]
  },
  {
   "cell_type": "code",
   "execution_count": null,
   "id": "83e050e4",
   "metadata": {},
   "outputs": [],
   "source": []
  },
  {
   "cell_type": "code",
   "execution_count": null,
   "id": "438956ff",
   "metadata": {},
   "outputs": [],
   "source": []
  },
  {
   "cell_type": "code",
   "execution_count": null,
   "id": "5f0279cf",
   "metadata": {},
   "outputs": [],
   "source": []
  },
  {
   "cell_type": "code",
   "execution_count": null,
   "id": "5d303244",
   "metadata": {},
   "outputs": [],
   "source": []
  }
 ],
 "metadata": {
  "kernelspec": {
   "display_name": "Python 3 (ipykernel)",
   "language": "python",
   "name": "python3"
  },
  "language_info": {
   "codemirror_mode": {
    "name": "ipython",
    "version": 3
   },
   "file_extension": ".py",
   "mimetype": "text/x-python",
   "name": "python",
   "nbconvert_exporter": "python",
   "pygments_lexer": "ipython3",
   "version": "3.7.16"
  }
 },
 "nbformat": 4,
 "nbformat_minor": 5
}
