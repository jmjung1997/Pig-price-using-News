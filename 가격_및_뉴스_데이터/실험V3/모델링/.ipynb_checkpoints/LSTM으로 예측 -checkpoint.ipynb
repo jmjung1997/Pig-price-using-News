{
 "cells": [
  {
   "cell_type": "code",
   "execution_count": 1,
   "id": "e6b4f787",
   "metadata": {},
   "outputs": [
    {
     "name": "stdout",
     "output_type": "stream",
     "text": [
      "Requirement already satisfied: dataloader in c:\\users\\jaemin\\anaconda3\\envs\\py38\\lib\\site-packages (2.0)\n"
     ]
    }
   ],
   "source": [
    "!pip install dataloader"
   ]
  },
  {
   "cell_type": "code",
   "execution_count": 2,
   "id": "5b837da0",
   "metadata": {},
   "outputs": [
    {
     "name": "stderr",
     "output_type": "stream",
     "text": [
      "C:\\Users\\jaemin\\Anaconda3\\envs\\py38\\lib\\site-packages\\numpy\\_distributor_init.py:30: UserWarning: loaded more than 1 DLL from .libs:\n",
      "C:\\Users\\jaemin\\Anaconda3\\envs\\py38\\lib\\site-packages\\numpy\\.libs\\libopenblas.FB5AE2TYXYH2IJRDKGDGQ3XBKLKTF43H.gfortran-win_amd64.dll\n",
      "C:\\Users\\jaemin\\Anaconda3\\envs\\py38\\lib\\site-packages\\numpy\\.libs\\libopenblas.PYQHXLVVQ7VESDPUVUADXEVJOBGHJPAY.gfortran-win_amd64.dll\n",
      "  warnings.warn(\"loaded more than 1 DLL from .libs:\"\n"
     ]
    },
    {
     "ename": "NameError",
     "evalue": "name 'torch' is not defined",
     "output_type": "error",
     "traceback": [
      "\u001b[1;31m---------------------------------------------------------------------------\u001b[0m",
      "\u001b[1;31mNameError\u001b[0m                                 Traceback (most recent call last)",
      "Cell \u001b[1;32mIn[2], line 6\u001b[0m\n\u001b[0;32m      4\u001b[0m \u001b[38;5;28;01mfrom\u001b[39;00m \u001b[38;5;21;01mtorch\u001b[39;00m\u001b[38;5;21;01m.\u001b[39;00m\u001b[38;5;21;01mutils\u001b[39;00m\u001b[38;5;21;01m.\u001b[39;00m\u001b[38;5;21;01mdata\u001b[39;00m \u001b[38;5;28;01mimport\u001b[39;00m Dataset,DataLoader\n\u001b[0;32m      5\u001b[0m \u001b[38;5;28;01mimport\u001b[39;00m \u001b[38;5;21;01mtorch\u001b[39;00m\u001b[38;5;21;01m.\u001b[39;00m\u001b[38;5;21;01mnn\u001b[39;00m \u001b[38;5;28;01mas\u001b[39;00m \u001b[38;5;21;01mnn\u001b[39;00m\n\u001b[1;32m----> 6\u001b[0m device \u001b[38;5;241m=\u001b[39m \u001b[43mtorch\u001b[49m\u001b[38;5;241m.\u001b[39mdevice(\u001b[38;5;124m\"\u001b[39m\u001b[38;5;124mcuda:0\u001b[39m\u001b[38;5;124m\"\u001b[39m \u001b[38;5;28;01mif\u001b[39;00m torch\u001b[38;5;241m.\u001b[39mcuda\u001b[38;5;241m.\u001b[39mis_available() \u001b[38;5;28;01melse\u001b[39;00m \u001b[38;5;124m\"\u001b[39m\u001b[38;5;124mcpu\u001b[39m\u001b[38;5;124m\"\u001b[39m)\n",
      "\u001b[1;31mNameError\u001b[0m: name 'torch' is not defined"
     ]
    }
   ],
   "source": [
    "import pandas as pd\n",
    "import numpy as np\n",
    "import matplotlib.pyplot as plt\n",
    "from torch.utils.data import Dataset,DataLoader\n",
    "import torch.nn as nn\n",
    "device = torch.device(\"cuda:0\" if torch.cuda.is_available() else \"cpu\")"
   ]
  },
  {
   "cell_type": "code",
   "execution_count": null,
   "id": "8cf35aeb",
   "metadata": {},
   "outputs": [],
   "source": [
    "import pandas as pd\n",
    "import random\n",
    "import matplotlib.pyplot as plt\n",
    "from sklearn.preprocessing import MinMaxScaler\n",
    "\n",
    "# 데이터 불러오기\n",
    "df_all=pd.read_csv('../data_v3/감성점수와 일별뉴스 합친거.csv',encoding='utf-8')\n",
    "df = df_all.iloc[:,[1,2,5]]"
   ]
  },
  {
   "cell_type": "code",
   "execution_count": null,
   "id": "35bf41cd",
   "metadata": {},
   "outputs": [],
   "source": [
    "df=df[['경락단가','day_sentiment','경락단가_평균']]\n",
    "# df=df[['경락단가','경락단가_평균']]"
   ]
  },
  {
   "cell_type": "code",
   "execution_count": null,
   "id": "f928078f",
   "metadata": {},
   "outputs": [],
   "source": [
    "df.tail()"
   ]
  },
  {
   "cell_type": "code",
   "execution_count": null,
   "id": "c2f1ecd7",
   "metadata": {},
   "outputs": [],
   "source": [
    "# 7일간의 데이터가 입력으로 들어가고 batch size는 임의로 지정\n",
    "seq_length = 5\n",
    "batch = 100\n",
    "\n",
    "# 데이터를 역순으로 정렬하여 전체 데이터의 70% 학습, 30% 테스트에 사용\n",
    "train_size = int(len(df)*0.7)\n",
    "train_set = df[0:train_size]  \n",
    "test_set = df[train_size-seq_length:]"
   ]
  },
  {
   "cell_type": "code",
   "execution_count": null,
   "id": "514db24a",
   "metadata": {},
   "outputs": [],
   "source": [
    "# Input scale\n",
    "scaler_x = MinMaxScaler()\n",
    "scaler_x.fit(train_set.iloc[:, :-1])\n",
    "\n",
    "train_set.iloc[:, :-1] = scaler_x.transform(train_set.iloc[:, :-1])\n",
    "test_set.iloc[:, :-1] = scaler_x.transform(test_set.iloc[:, :-1])\n",
    "\n",
    "# Output scale\n",
    "scaler_y = MinMaxScaler()\n",
    "scaler_y.fit(train_set.iloc[:, [-1]])\n",
    "\n",
    "train_set.iloc[:, -1:] = scaler_y.transform(train_set.iloc[:, -1:])\n",
    "test_set.iloc[:, -1:] = scaler_y.transform(test_set.iloc[:, -1:])"
   ]
  },
  {
   "cell_type": "code",
   "execution_count": null,
   "id": "7980d168",
   "metadata": {},
   "outputs": [],
   "source": [
    "from torch.utils.data import TensorDataset # 텐서데이터셋\n",
    "from torch.utils.data import DataLoader # 데이터로더\n",
    "\n",
    "# 데이터셋 생성 함수\n",
    "def build_dataset(time_series, seq_length):\n",
    "    dataX = []\n",
    "    dataY = []\n",
    "    for i in range(0, len(time_series)-seq_length):\n",
    "        _x = time_series[i:i+seq_length, :]\n",
    "        _y = time_series[i+seq_length, [-1]]\n",
    "        # print(_x, \"-->\",_y)\n",
    "        dataX.append(_x)\n",
    "        dataY.append(_y)\n",
    "\n",
    "    return np.array(dataX), np.array(dataY)\n",
    "\n",
    "trainX, trainY = build_dataset(np.array(train_set), seq_length)\n",
    "testX, testY = build_dataset(np.array(test_set), seq_length)\n",
    "\n",
    "# 텐서로 변환\n",
    "trainX_tensor = torch.FloatTensor(trainX)\n",
    "trainY_tensor = torch.FloatTensor(trainY)\n",
    "\n",
    "testX_tensor = torch.FloatTensor(testX)\n",
    "testY_tensor = torch.FloatTensor(testY)\n",
    "\n",
    "# 텐서 형태로 데이터 정의\n",
    "dataset = TensorDataset(trainX_tensor, trainY_tensor)\n",
    "\n",
    "# 데이터로더는 기본적으로 2개의 인자를 입력받으며 배치크기는 통상적으로 2의 배수를 사용\n",
    "dataloader = DataLoader(dataset,\n",
    "                        batch_size=batch,\n",
    "                        shuffle=True,  \n",
    "                        drop_last=True)"
   ]
  },
  {
   "cell_type": "code",
   "execution_count": null,
   "id": "8aa98362",
   "metadata": {},
   "outputs": [],
   "source": [
    "# 설정값\n",
    "data_dim = 3\n",
    "hidden_dim = 10 \n",
    "output_dim = 1 \n",
    "learning_rate = 0.01\n",
    "nb_epochs = 100\n",
    "class Net(nn.Module):\n",
    "    # # 기본변수, layer를 초기화해주는 생성자\n",
    "    def __init__(self, input_dim, hidden_dim, seq_len, output_dim, layers):\n",
    "        super(Net, self).__init__()\n",
    "        self.hidden_dim = hidden_dim\n",
    "        self.seq_len = seq_len\n",
    "        self.output_dim = output_dim\n",
    "        self.layers = layers\n",
    "        \n",
    "        self.lstm = nn.LSTM(input_dim, hidden_dim, num_layers=layers,\n",
    "                            # dropout = 0.1,\n",
    "                            batch_first=True)\n",
    "        self.fc = nn.Linear(hidden_dim, output_dim, bias = True) \n",
    "        \n",
    "    # 학습 초기화를 위한 함수\n",
    "    def reset_hidden_state(self): \n",
    "        self.hidden = (\n",
    "                torch.zeros(self.layers, self.seq_len, self.hidden_dim),\n",
    "                torch.zeros(self.layers, self.seq_len, self.hidden_dim))\n",
    "    \n",
    "    # 예측을 위한 함수\n",
    "    def forward(self, x):\n",
    "        x, _status = self.lstm(x)\n",
    "        x = self.fc(x[:, -1])\n",
    "        return x"
   ]
  },
  {
   "cell_type": "code",
   "execution_count": null,
   "id": "f9a897be",
   "metadata": {},
   "outputs": [],
   "source": [
    "def train_model(model, train_df, num_epochs = None, lr = None, verbose = 10, patience = 10):\n",
    "     \n",
    "    criterion = nn.MSELoss().to(device)\n",
    "    optimizer = optim.Adam(model.parameters(), lr = learning_rate)\n",
    "    nb_epochs = num_epochs\n",
    "    \n",
    "    # epoch마다 loss 저장\n",
    "    train_hist = np.zeros(nb_epochs)\n",
    "\n",
    "    for epoch in range(nb_epochs):\n",
    "        avg_cost = 0\n",
    "        total_batch = len(train_df)\n",
    "        \n",
    "        for batch_idx, samples in enumerate(train_df):\n",
    "\n",
    "            x_train, y_train = samples\n",
    "            \n",
    "            # seq별 hidden state reset\n",
    "            model.reset_hidden_state()\n",
    "            \n",
    "            # H(x) 계산\n",
    "            outputs = model(x_train)\n",
    "                \n",
    "            # cost 계산\n",
    "            loss = criterion(outputs, y_train)                    \n",
    "            \n",
    "            # cost로 H(x) 개선\n",
    "            optimizer.zero_grad()\n",
    "            loss.backward()\n",
    "            optimizer.step()\n",
    "            \n",
    "            avg_cost += loss/total_batch\n",
    "               \n",
    "        train_hist[epoch] = avg_cost        \n",
    "        \n",
    "        if epoch % verbose == 0:\n",
    "            print('Epoch:', '%04d' % (epoch), 'train loss :', '{:.4f}'.format(avg_cost))\n",
    "            \n",
    "        # patience번째 마다 early stopping 여부 확인\n",
    "        if (epoch % patience == 0) & (epoch != 0):\n",
    "            \n",
    "            # loss가 커졌다면 early stop\n",
    "            if train_hist[epoch-patience] < train_hist[epoch]:\n",
    "                print('\\n Early Stopping')\n",
    "                \n",
    "                break\n",
    "            \n",
    "    return model.eval(), train_hist"
   ]
  },
  {
   "cell_type": "code",
   "execution_count": null,
   "id": "58af0de7",
   "metadata": {},
   "outputs": [],
   "source": [
    "# 모델 학습\n",
    "net = Net(data_dim, hidden_dim, seq_length, output_dim, 1).to(device)  \n",
    "model, train_hist = train_model(net, dataloader, num_epochs = nb_epochs, lr = learning_rate, verbose = 20, patience = 10)"
   ]
  },
  {
   "cell_type": "code",
   "execution_count": null,
   "id": "ec10ce35",
   "metadata": {},
   "outputs": [],
   "source": [
    "# epoch별 손실값\n",
    "fig = plt.figure(figsize=(10, 4))\n",
    "plt.plot(train_hist, label=\"Training loss\")\n",
    "plt.legend()\n",
    "plt.show()"
   ]
  },
  {
   "cell_type": "code",
   "execution_count": null,
   "id": "99dcf50d",
   "metadata": {},
   "outputs": [],
   "source": [
    "# 모델 저장    \n",
    "PATH = \"./Timeseries_LSTM_data-02-stock_daily_.pth\"\n",
    "torch.save(model.state_dict(), PATH)\n",
    "\n",
    "# 불러오기\n",
    "model = Net(data_dim, hidden_dim, seq_length, output_dim, 1).to(device)  \n",
    "model.load_state_dict(torch.load(PATH), strict=False)\n",
    "model.eval()"
   ]
  },
  {
   "cell_type": "code",
   "execution_count": null,
   "id": "5a636ab7",
   "metadata": {},
   "outputs": [],
   "source": [
    "# 예측 테스트\n",
    "with torch.no_grad(): \n",
    "    pred = []\n",
    "    for pr in range(len(testX_tensor)):\n",
    "\n",
    "        model.reset_hidden_state()\n",
    "\n",
    "        predicted = model(torch.unsqueeze(testX_tensor[pr], 0))\n",
    "        predicted = torch.flatten(predicted).item()\n",
    "        pred.append(predicted)\n",
    "\n",
    "    # INVERSE\n",
    "    pred_inverse = scaler_y.inverse_transform(np.array(pred).reshape(-1, 1))\n",
    "    testY_inverse = scaler_y.inverse_transform(testY_tensor)\n",
    "\n",
    "def MAE(true, pred):\n",
    "    return np.mean(np.abs(true-pred))\n",
    "\n",
    "print('MAE SCORE : ', MAE(pred_inverse, testY_inverse))"
   ]
  },
  {
   "cell_type": "code",
   "execution_count": null,
   "id": "4e797fb9",
   "metadata": {},
   "outputs": [],
   "source": [
    "fig = plt.figure(figsize=(8,3))\n",
    "plt.plot(np.arange(len(pred_inverse)), pred_inverse, label = 'pred')\n",
    "plt.plot(np.arange(len(testY_inverse)), testY_inverse, label = 'true')\n",
    "plt.title(\"Loss plot\")\n",
    "plt.show()"
   ]
  },
  {
   "cell_type": "code",
   "execution_count": null,
   "id": "0d80fd47",
   "metadata": {},
   "outputs": [],
   "source": []
  },
  {
   "cell_type": "code",
   "execution_count": null,
   "id": "717d9a13",
   "metadata": {},
   "outputs": [],
   "source": []
  }
 ],
 "metadata": {
  "kernelspec": {
   "display_name": "Python 3 (ipykernel)",
   "language": "python",
   "name": "python3"
  },
  "language_info": {
   "codemirror_mode": {
    "name": "ipython",
    "version": 3
   },
   "file_extension": ".py",
   "mimetype": "text/x-python",
   "name": "python",
   "nbconvert_exporter": "python",
   "pygments_lexer": "ipython3",
   "version": "3.8.11"
  }
 },
 "nbformat": 4,
 "nbformat_minor": 5
}
